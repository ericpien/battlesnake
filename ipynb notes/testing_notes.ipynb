{
 "cells": [
  {
   "cell_type": "code",
   "execution_count": 13,
   "metadata": {},
   "outputs": [],
   "source": [
    "import pandas as pd\n",
    "import numpy as np\n",
    "from typing import List\n",
    "from typing import Dict\n",
    "import copy\n"
   ]
  },
  {
   "cell_type": "code",
   "execution_count": 14,
   "metadata": {},
   "outputs": [],
   "source": [
    "snakeobject1 = {\n",
    "  \"id\": \"sn1\",\n",
    "  \"name\": \"sn1\",\n",
    "  \"health\": 100,\n",
    "  \"body\": [{\"x\": 1, \"y\": 0}, {\"x\": 1, \"y\": 1}, {\"x\": 1, \"y\": 2}],\n",
    "  \"latency\": \"123\",\n",
    "  \"head\": {\"x\": 1, \"y\": 0},\n",
    "  \"length\": 3,\n",
    "  \"shout\": \"s!\",\n",
    "  \"squad\": \"1\",\n",
    "  \"customizations\":{\"color\":\"#26CF04\",\"head\":\"smile\",\"tail\":\"bolt\"}}"
   ]
  },
  {
   "cell_type": "code",
   "execution_count": 15,
   "metadata": {},
   "outputs": [],
   "source": [
    "snakeobject2 = {\n",
    "  \"id\": \"sn2\",\n",
    "  \"name\": \"sn2\",\n",
    "  \"health\": 100,\n",
    "  \"body\": [{\"x\": 2, \"y\": 1}, {\"x\": 3, \"y\": 1}, {\"x\": 4, \"y\": 1}],\n",
    "  \"latency\": \"123\",\n",
    "  \"head\": {\"x\": 2, \"y\": 1},\n",
    "  \"length\": 3,\n",
    "  \"shout\": \"s!\",\n",
    "  \"squad\": \"2\",\n",
    "  \"customizations\":{\"color\":\"#26CF04\",\"head\":\"smile\",\"tail\":\"bolt\"}}"
   ]
  },
  {
   "cell_type": "code",
   "execution_count": 16,
   "metadata": {},
   "outputs": [],
   "source": [
    "snakeobject3 = {\n",
    "  \"id\": \"sn3\",\n",
    "  \"name\": \"sn1\",\n",
    "  \"health\": 100,\n",
    "  \"body\": [{\"x\": 5, \"y\": 5}, {\"x\": 5, \"y\": 4}, {\"x\": 5, \"y\": 3}],\n",
    "  \"latency\": \"123\",\n",
    "  \"head\": {\"x\": 5, \"y\": 5},\n",
    "  \"length\": 3,\n",
    "  \"shout\": \"s!\",\n",
    "  \"squad\": \"1\",\n",
    "  \"customizations\":{\"color\":\"#26CF04\",\"head\":\"smile\",\"tail\":\"bolt\"}}"
   ]
  },
  {
   "cell_type": "code",
   "execution_count": 17,
   "metadata": {},
   "outputs": [],
   "source": [
    "snakeobject4 = {\n",
    "  \"id\": \"sn4\",\n",
    "  \"name\": \"sn2\",\n",
    "  \"health\": 100,\n",
    "  \"body\": [{\"x\": 7, \"y\": 6}, {\"x\": 7, \"y\": 7}, {\"x\": 7, \"y\": 8}],\n",
    "  \"latency\": \"123\",\n",
    "  \"head\": {\"x\": 7, \"y\": 6},\n",
    "  \"length\": 3,\n",
    "  \"shout\": \"s!\",\n",
    "  \"squad\": \"2\",\n",
    "  \"customizations\":{\"color\":\"#26CF04\",\"head\":\"smile\",\"tail\":\"bolt\"}}"
   ]
  },
  {
   "cell_type": "code",
   "execution_count": 18,
   "metadata": {},
   "outputs": [],
   "source": [
    "board1 = {\"height\": 11, \"width\": 11,\n",
    "  \"food\": [{\"x\": 2, \"y\": 0}],\n",
    "  \"hazards\": [{\"x\": 2, \"y\": 2}],\n",
    "  \"snakes\": [snakeobject1, snakeobject2]}"
   ]
  },
  {
   "cell_type": "code",
   "execution_count": 19,
   "metadata": {},
   "outputs": [],
   "source": [
    "board2 = {\"height\": 11, \"width\": 11,\n",
    "  \"food\": [{}],\n",
    "  \"hazards\": [{}],\n",
    "  \"snakes\": [snakeobject3, snakeobject4]}"
   ]
  },
  {
   "cell_type": "code",
   "execution_count": 22,
   "metadata": {},
   "outputs": [],
   "source": [
    "board3 = {\"height\": 11, \"width\": 11,\n",
    "  \"food\": [{\"x\": 2, \"y\": 0}],\n",
    "  \"hazards\": [{\"x\": 2, \"y\": 2}],\n",
    "  \"snakes\": [snakeobject1, snakeobject2, snakeobject3, snakeobject4]}"
   ]
  },
  {
   "cell_type": "code",
   "execution_count": 26,
   "metadata": {},
   "outputs": [],
   "source": [
    "class Snake:\n",
    "    def __init__(self,snake_json: Dict):       \n",
    "        self.id = snake_json['id']\n",
    "        self.name = snake_json['name']\n",
    "        self.health = snake_json['health']\n",
    "        self.body = snake_json['body']\n",
    "        self.latency = snake_json['latency']\n",
    "        self.head = snake_json['head']\n",
    "        self.length = snake_json['length']\n",
    "        self.shout = snake_json['shout']\n",
    "        self.squad = snake_json['squad']\n",
    "        self.customizations = snake_json['customizations']\n",
    "\n",
    "    def move(self, foods: List[Dict], move: str) -> 'Snake':\n",
    "        x = copy.deepcopy(self)\n",
    "        new_body = []\n",
    "        if move == 'up':\n",
    "            new_body = [{'x': self.head['x'], 'y': self.head['y']+1}] + self.body\n",
    "        elif move == 'down':\n",
    "            new_body = [{'x': self.head['x'], 'y': self.head['y']-1}] + self.body\n",
    "        elif move == 'right':\n",
    "            new_body = [{'x': self.head['x']+1, 'y': self.head['y']}] + self.body\n",
    "        elif move == 'left':\n",
    "            new_body = [{'x': self.head['x']-1, 'y': self.head['y']}] + self.body\n",
    "\n",
    "        if new_body[0] in foods:\n",
    "            x.body = new_body\n",
    "            x.head = new_body[0]\n",
    "        else:\n",
    "            x.body = new_body[:-1]\n",
    "            x.head = new_body[0]\n",
    "\n",
    "        return x\n",
    "\n",
    "    def get_snake(self) -> Dict:\n",
    "        return {\n",
    "            'id':self.id,\n",
    "            'name':self.name,\n",
    "            'health':self.health,\n",
    "            'body':self.body,\n",
    "            'latency': self.latency,\n",
    "            'head': self.head,\n",
    "            'length': self.length,\n",
    "            'shout': self.shout,\n",
    "            'squad': self.squad,\n",
    "            'customizations': self.customizations\n",
    "        }\n",
    "\n",
    "class Board:\n",
    "    def __init__(self,board_json: Dict):\n",
    "        self.height = board_json['height']\n",
    "        self.width = board_json['width']\n",
    "        self.food = board_json['food']\n",
    "        self.hazards = board_json['hazards']\n",
    "        self.snakes = board_json['snakes']\n",
    "\n",
    "    def permute_ours(self, my_snake: Snake, safe_moves: List) -> List['Board']:\n",
    "        new_boards = []\n",
    "        my_index = next((index for (index, d) in enumerate(self.snakes) if d[\"id\"] == my_snake.id), None)\n",
    "\n",
    "        for m in safe_moves:\n",
    "            nboard = copy.deepcopy(self)\n",
    "            new_snake = my_snake.move(foods = self.food, move = m)\n",
    "            nboard.snakes[my_index] = new_snake.get_snake()\n",
    "            nboard.food = [f for f in nboard.food if f != new_snake.head]\n",
    "            new_boards += [nboard]\n",
    "\n",
    "        return new_boards\n",
    "\n",
    "    def permute_theirs(self, my_snake: Snake) -> List['Board']:\n",
    "        new_snakes = [[my_snake]]\n",
    "        new_boards = []\n",
    "\n",
    "        # Create new snakes\n",
    "        for sn in self.snakes:\n",
    "            if sn['id'] == my_snake.id:\n",
    "                pass\n",
    "            else: \n",
    "                tmp = []\n",
    "                for m in ['up','down','left','right']:\n",
    "                    new_snake = [Snake(sn).move(foods = self.food, move = m)]\n",
    "                    msnakes = [s+new_snake for s in new_snakes]\n",
    "                    tmp += msnakes\n",
    "                new_snakes = tmp\n",
    "        \n",
    "        # TODO convert snake data to boards. - clean for hazards/walls\n",
    "        \n",
    "        return new_snakes\n",
    "\n",
    "    def score(self) -> float:\n",
    "        return 1\n",
    "        # our heuristic this board state\n",
    "        # pass\n",
    "\n",
    "    def build_np(self) -> np.ndarray:\n",
    "        # Use the enum values to populate a 2d array\n",
    "        pass\n",
    "\n",
    "class BoardTile():\n",
    "    pass\n",
    "\n",
    "class BoardTree:\n",
    "    def __init__(init_state: Board):\n",
    "    # Build the tree from our initial state by permuting\n",
    "        pass        "
   ]
  },
  {
   "cell_type": "code",
   "execution_count": 27,
   "metadata": {},
   "outputs": [],
   "source": [
    "s1 = Snake(snakeobject1)\n",
    "s2 = Snake(snakeobject2)\n",
    "s3 = Snake(snakeobject3)\n",
    "s4 = Snake(snakeobject4)\n",
    "b1 = Board(board1)\n",
    "b2 = Board(board2)\n",
    "b3 = Board(board3)"
   ]
  },
  {
   "cell_type": "code",
   "execution_count": 28,
   "metadata": {},
   "outputs": [
    {
     "name": "stdout",
     "output_type": "stream",
     "text": [
      "64\n",
      "1: ['sn2', 'sn1', 'sn3', 'sn4'] | [{'x': 2, 'y': 1}, {'x': 1, 'y': 1}, {'x': 5, 'y': 6}, {'x': 7, 'y': 7}]\n",
      "2: ['sn2', 'sn1', 'sn3', 'sn4'] | [{'x': 2, 'y': 1}, {'x': 1, 'y': -1}, {'x': 5, 'y': 6}, {'x': 7, 'y': 7}]\n",
      "3: ['sn2', 'sn1', 'sn3', 'sn4'] | [{'x': 2, 'y': 1}, {'x': 0, 'y': 0}, {'x': 5, 'y': 6}, {'x': 7, 'y': 7}]\n",
      "4: ['sn2', 'sn1', 'sn3', 'sn4'] | [{'x': 2, 'y': 1}, {'x': 2, 'y': 0}, {'x': 5, 'y': 6}, {'x': 7, 'y': 7}]\n",
      "5: ['sn2', 'sn1', 'sn3', 'sn4'] | [{'x': 2, 'y': 1}, {'x': 1, 'y': 1}, {'x': 5, 'y': 4}, {'x': 7, 'y': 7}]\n",
      "6: ['sn2', 'sn1', 'sn3', 'sn4'] | [{'x': 2, 'y': 1}, {'x': 1, 'y': -1}, {'x': 5, 'y': 4}, {'x': 7, 'y': 7}]\n",
      "7: ['sn2', 'sn1', 'sn3', 'sn4'] | [{'x': 2, 'y': 1}, {'x': 0, 'y': 0}, {'x': 5, 'y': 4}, {'x': 7, 'y': 7}]\n",
      "8: ['sn2', 'sn1', 'sn3', 'sn4'] | [{'x': 2, 'y': 1}, {'x': 2, 'y': 0}, {'x': 5, 'y': 4}, {'x': 7, 'y': 7}]\n",
      "9: ['sn2', 'sn1', 'sn3', 'sn4'] | [{'x': 2, 'y': 1}, {'x': 1, 'y': 1}, {'x': 4, 'y': 5}, {'x': 7, 'y': 7}]\n",
      "10: ['sn2', 'sn1', 'sn3', 'sn4'] | [{'x': 2, 'y': 1}, {'x': 1, 'y': -1}, {'x': 4, 'y': 5}, {'x': 7, 'y': 7}]\n",
      "11: ['sn2', 'sn1', 'sn3', 'sn4'] | [{'x': 2, 'y': 1}, {'x': 0, 'y': 0}, {'x': 4, 'y': 5}, {'x': 7, 'y': 7}]\n",
      "12: ['sn2', 'sn1', 'sn3', 'sn4'] | [{'x': 2, 'y': 1}, {'x': 2, 'y': 0}, {'x': 4, 'y': 5}, {'x': 7, 'y': 7}]\n",
      "13: ['sn2', 'sn1', 'sn3', 'sn4'] | [{'x': 2, 'y': 1}, {'x': 1, 'y': 1}, {'x': 6, 'y': 5}, {'x': 7, 'y': 7}]\n",
      "14: ['sn2', 'sn1', 'sn3', 'sn4'] | [{'x': 2, 'y': 1}, {'x': 1, 'y': -1}, {'x': 6, 'y': 5}, {'x': 7, 'y': 7}]\n",
      "15: ['sn2', 'sn1', 'sn3', 'sn4'] | [{'x': 2, 'y': 1}, {'x': 0, 'y': 0}, {'x': 6, 'y': 5}, {'x': 7, 'y': 7}]\n",
      "16: ['sn2', 'sn1', 'sn3', 'sn4'] | [{'x': 2, 'y': 1}, {'x': 2, 'y': 0}, {'x': 6, 'y': 5}, {'x': 7, 'y': 7}]\n",
      "17: ['sn2', 'sn1', 'sn3', 'sn4'] | [{'x': 2, 'y': 1}, {'x': 1, 'y': 1}, {'x': 5, 'y': 6}, {'x': 7, 'y': 5}]\n",
      "18: ['sn2', 'sn1', 'sn3', 'sn4'] | [{'x': 2, 'y': 1}, {'x': 1, 'y': -1}, {'x': 5, 'y': 6}, {'x': 7, 'y': 5}]\n",
      "19: ['sn2', 'sn1', 'sn3', 'sn4'] | [{'x': 2, 'y': 1}, {'x': 0, 'y': 0}, {'x': 5, 'y': 6}, {'x': 7, 'y': 5}]\n",
      "20: ['sn2', 'sn1', 'sn3', 'sn4'] | [{'x': 2, 'y': 1}, {'x': 2, 'y': 0}, {'x': 5, 'y': 6}, {'x': 7, 'y': 5}]\n",
      "21: ['sn2', 'sn1', 'sn3', 'sn4'] | [{'x': 2, 'y': 1}, {'x': 1, 'y': 1}, {'x': 5, 'y': 4}, {'x': 7, 'y': 5}]\n",
      "22: ['sn2', 'sn1', 'sn3', 'sn4'] | [{'x': 2, 'y': 1}, {'x': 1, 'y': -1}, {'x': 5, 'y': 4}, {'x': 7, 'y': 5}]\n",
      "23: ['sn2', 'sn1', 'sn3', 'sn4'] | [{'x': 2, 'y': 1}, {'x': 0, 'y': 0}, {'x': 5, 'y': 4}, {'x': 7, 'y': 5}]\n",
      "24: ['sn2', 'sn1', 'sn3', 'sn4'] | [{'x': 2, 'y': 1}, {'x': 2, 'y': 0}, {'x': 5, 'y': 4}, {'x': 7, 'y': 5}]\n",
      "25: ['sn2', 'sn1', 'sn3', 'sn4'] | [{'x': 2, 'y': 1}, {'x': 1, 'y': 1}, {'x': 4, 'y': 5}, {'x': 7, 'y': 5}]\n",
      "26: ['sn2', 'sn1', 'sn3', 'sn4'] | [{'x': 2, 'y': 1}, {'x': 1, 'y': -1}, {'x': 4, 'y': 5}, {'x': 7, 'y': 5}]\n",
      "27: ['sn2', 'sn1', 'sn3', 'sn4'] | [{'x': 2, 'y': 1}, {'x': 0, 'y': 0}, {'x': 4, 'y': 5}, {'x': 7, 'y': 5}]\n",
      "28: ['sn2', 'sn1', 'sn3', 'sn4'] | [{'x': 2, 'y': 1}, {'x': 2, 'y': 0}, {'x': 4, 'y': 5}, {'x': 7, 'y': 5}]\n",
      "29: ['sn2', 'sn1', 'sn3', 'sn4'] | [{'x': 2, 'y': 1}, {'x': 1, 'y': 1}, {'x': 6, 'y': 5}, {'x': 7, 'y': 5}]\n",
      "30: ['sn2', 'sn1', 'sn3', 'sn4'] | [{'x': 2, 'y': 1}, {'x': 1, 'y': -1}, {'x': 6, 'y': 5}, {'x': 7, 'y': 5}]\n",
      "31: ['sn2', 'sn1', 'sn3', 'sn4'] | [{'x': 2, 'y': 1}, {'x': 0, 'y': 0}, {'x': 6, 'y': 5}, {'x': 7, 'y': 5}]\n",
      "32: ['sn2', 'sn1', 'sn3', 'sn4'] | [{'x': 2, 'y': 1}, {'x': 2, 'y': 0}, {'x': 6, 'y': 5}, {'x': 7, 'y': 5}]\n",
      "33: ['sn2', 'sn1', 'sn3', 'sn4'] | [{'x': 2, 'y': 1}, {'x': 1, 'y': 1}, {'x': 5, 'y': 6}, {'x': 6, 'y': 6}]\n",
      "34: ['sn2', 'sn1', 'sn3', 'sn4'] | [{'x': 2, 'y': 1}, {'x': 1, 'y': -1}, {'x': 5, 'y': 6}, {'x': 6, 'y': 6}]\n",
      "35: ['sn2', 'sn1', 'sn3', 'sn4'] | [{'x': 2, 'y': 1}, {'x': 0, 'y': 0}, {'x': 5, 'y': 6}, {'x': 6, 'y': 6}]\n",
      "36: ['sn2', 'sn1', 'sn3', 'sn4'] | [{'x': 2, 'y': 1}, {'x': 2, 'y': 0}, {'x': 5, 'y': 6}, {'x': 6, 'y': 6}]\n",
      "37: ['sn2', 'sn1', 'sn3', 'sn4'] | [{'x': 2, 'y': 1}, {'x': 1, 'y': 1}, {'x': 5, 'y': 4}, {'x': 6, 'y': 6}]\n",
      "38: ['sn2', 'sn1', 'sn3', 'sn4'] | [{'x': 2, 'y': 1}, {'x': 1, 'y': -1}, {'x': 5, 'y': 4}, {'x': 6, 'y': 6}]\n",
      "39: ['sn2', 'sn1', 'sn3', 'sn4'] | [{'x': 2, 'y': 1}, {'x': 0, 'y': 0}, {'x': 5, 'y': 4}, {'x': 6, 'y': 6}]\n",
      "40: ['sn2', 'sn1', 'sn3', 'sn4'] | [{'x': 2, 'y': 1}, {'x': 2, 'y': 0}, {'x': 5, 'y': 4}, {'x': 6, 'y': 6}]\n",
      "41: ['sn2', 'sn1', 'sn3', 'sn4'] | [{'x': 2, 'y': 1}, {'x': 1, 'y': 1}, {'x': 4, 'y': 5}, {'x': 6, 'y': 6}]\n",
      "42: ['sn2', 'sn1', 'sn3', 'sn4'] | [{'x': 2, 'y': 1}, {'x': 1, 'y': -1}, {'x': 4, 'y': 5}, {'x': 6, 'y': 6}]\n",
      "43: ['sn2', 'sn1', 'sn3', 'sn4'] | [{'x': 2, 'y': 1}, {'x': 0, 'y': 0}, {'x': 4, 'y': 5}, {'x': 6, 'y': 6}]\n",
      "44: ['sn2', 'sn1', 'sn3', 'sn4'] | [{'x': 2, 'y': 1}, {'x': 2, 'y': 0}, {'x': 4, 'y': 5}, {'x': 6, 'y': 6}]\n",
      "45: ['sn2', 'sn1', 'sn3', 'sn4'] | [{'x': 2, 'y': 1}, {'x': 1, 'y': 1}, {'x': 6, 'y': 5}, {'x': 6, 'y': 6}]\n",
      "46: ['sn2', 'sn1', 'sn3', 'sn4'] | [{'x': 2, 'y': 1}, {'x': 1, 'y': -1}, {'x': 6, 'y': 5}, {'x': 6, 'y': 6}]\n",
      "47: ['sn2', 'sn1', 'sn3', 'sn4'] | [{'x': 2, 'y': 1}, {'x': 0, 'y': 0}, {'x': 6, 'y': 5}, {'x': 6, 'y': 6}]\n",
      "48: ['sn2', 'sn1', 'sn3', 'sn4'] | [{'x': 2, 'y': 1}, {'x': 2, 'y': 0}, {'x': 6, 'y': 5}, {'x': 6, 'y': 6}]\n",
      "49: ['sn2', 'sn1', 'sn3', 'sn4'] | [{'x': 2, 'y': 1}, {'x': 1, 'y': 1}, {'x': 5, 'y': 6}, {'x': 8, 'y': 6}]\n",
      "50: ['sn2', 'sn1', 'sn3', 'sn4'] | [{'x': 2, 'y': 1}, {'x': 1, 'y': -1}, {'x': 5, 'y': 6}, {'x': 8, 'y': 6}]\n",
      "51: ['sn2', 'sn1', 'sn3', 'sn4'] | [{'x': 2, 'y': 1}, {'x': 0, 'y': 0}, {'x': 5, 'y': 6}, {'x': 8, 'y': 6}]\n",
      "52: ['sn2', 'sn1', 'sn3', 'sn4'] | [{'x': 2, 'y': 1}, {'x': 2, 'y': 0}, {'x': 5, 'y': 6}, {'x': 8, 'y': 6}]\n",
      "53: ['sn2', 'sn1', 'sn3', 'sn4'] | [{'x': 2, 'y': 1}, {'x': 1, 'y': 1}, {'x': 5, 'y': 4}, {'x': 8, 'y': 6}]\n",
      "54: ['sn2', 'sn1', 'sn3', 'sn4'] | [{'x': 2, 'y': 1}, {'x': 1, 'y': -1}, {'x': 5, 'y': 4}, {'x': 8, 'y': 6}]\n",
      "55: ['sn2', 'sn1', 'sn3', 'sn4'] | [{'x': 2, 'y': 1}, {'x': 0, 'y': 0}, {'x': 5, 'y': 4}, {'x': 8, 'y': 6}]\n",
      "56: ['sn2', 'sn1', 'sn3', 'sn4'] | [{'x': 2, 'y': 1}, {'x': 2, 'y': 0}, {'x': 5, 'y': 4}, {'x': 8, 'y': 6}]\n",
      "57: ['sn2', 'sn1', 'sn3', 'sn4'] | [{'x': 2, 'y': 1}, {'x': 1, 'y': 1}, {'x': 4, 'y': 5}, {'x': 8, 'y': 6}]\n",
      "58: ['sn2', 'sn1', 'sn3', 'sn4'] | [{'x': 2, 'y': 1}, {'x': 1, 'y': -1}, {'x': 4, 'y': 5}, {'x': 8, 'y': 6}]\n",
      "59: ['sn2', 'sn1', 'sn3', 'sn4'] | [{'x': 2, 'y': 1}, {'x': 0, 'y': 0}, {'x': 4, 'y': 5}, {'x': 8, 'y': 6}]\n",
      "60: ['sn2', 'sn1', 'sn3', 'sn4'] | [{'x': 2, 'y': 1}, {'x': 2, 'y': 0}, {'x': 4, 'y': 5}, {'x': 8, 'y': 6}]\n",
      "61: ['sn2', 'sn1', 'sn3', 'sn4'] | [{'x': 2, 'y': 1}, {'x': 1, 'y': 1}, {'x': 6, 'y': 5}, {'x': 8, 'y': 6}]\n",
      "62: ['sn2', 'sn1', 'sn3', 'sn4'] | [{'x': 2, 'y': 1}, {'x': 1, 'y': -1}, {'x': 6, 'y': 5}, {'x': 8, 'y': 6}]\n",
      "63: ['sn2', 'sn1', 'sn3', 'sn4'] | [{'x': 2, 'y': 1}, {'x': 0, 'y': 0}, {'x': 6, 'y': 5}, {'x': 8, 'y': 6}]\n",
      "64: ['sn2', 'sn1', 'sn3', 'sn4'] | [{'x': 2, 'y': 1}, {'x': 2, 'y': 0}, {'x': 6, 'y': 5}, {'x': 8, 'y': 6}]\n"
     ]
    }
   ],
   "source": [
    "## permute_theirs test\n",
    "\n",
    "b3 = Board(board3)\n",
    "lolos = b3.permute_theirs(s2)\n",
    "print(len(lolos))\n",
    "counter = 1\n",
    "for los in lolos:\n",
    "    #print(s for s in los)\n",
    "    tmp_id = []\n",
    "    tmp_head = []\n",
    "    for s in los:\n",
    "       tmp_id += [s.id]\n",
    "       tmp_head += [s.head]\n",
    "       \n",
    "    print('{}: {} | {}'.format(counter,tmp_id,tmp_head))\n",
    "    counter += 1"
   ]
  },
  {
   "cell_type": "code",
   "execution_count": 29,
   "metadata": {},
   "outputs": [
    {
     "name": "stdout",
     "output_type": "stream",
     "text": [
      "origin\n",
      "id: sn1\n",
      " - head: {'x': 1, 'y': 0}\n",
      " - body: [{'x': 1, 'y': 0}, {'x': 1, 'y': 1}, {'x': 1, 'y': 2}]\n",
      "id: sn2\n",
      " - head: {'x': 2, 'y': 1}\n",
      " - body: [{'x': 2, 'y': 1}, {'x': 3, 'y': 1}, {'x': 4, 'y': 1}]\n",
      "\n",
      "\n",
      "board #1\n",
      "id: sn1\n",
      " - head: {'x': 1, 'y': 0}.\n",
      " - body: [{'x': 1, 'y': 0}, {'x': 1, 'y': 1}, {'x': 1, 'y': 2}]\n",
      "id: sn2\n",
      " - head: {'x': 2, 'y': 0}.\n",
      " - body: [{'x': 2, 'y': 0}, {'x': 2, 'y': 1}, {'x': 3, 'y': 1}, {'x': 4, 'y': 1}]\n",
      "\n",
      "\n",
      "board #2\n",
      "id: sn1\n",
      " - head: {'x': 1, 'y': 0}.\n",
      " - body: [{'x': 1, 'y': 0}, {'x': 1, 'y': 1}, {'x': 1, 'y': 2}]\n",
      "id: sn2\n",
      " - head: {'x': 3, 'y': 1}.\n",
      " - body: [{'x': 3, 'y': 1}, {'x': 2, 'y': 1}, {'x': 3, 'y': 1}]\n",
      "\n",
      "\n",
      "board #3\n",
      "id: sn1\n",
      " - head: {'x': 1, 'y': 0}.\n",
      " - body: [{'x': 1, 'y': 0}, {'x': 1, 'y': 1}, {'x': 1, 'y': 2}]\n",
      "id: sn2\n",
      " - head: {'x': 1, 'y': 1}.\n",
      " - body: [{'x': 1, 'y': 1}, {'x': 2, 'y': 1}, {'x': 3, 'y': 1}]\n",
      "\n",
      "\n",
      "[]\n",
      "[{'x': 2, 'y': 0}]\n",
      "[{'x': 2, 'y': 0}]\n"
     ]
    }
   ],
   "source": [
    "## permnute_ours test\n",
    "lob = b1.permute_ours(s2,['down','right','left']) #s2's down will consume food\n",
    "counter = 1\n",
    "\n",
    "print('origin')\n",
    "\n",
    "for s in b1.snakes:\n",
    "    print('id: {}\\n - head: {}\\n - body: {}'.format(s['id'],s['head'],s['body']))\n",
    "\n",
    "print('\\n')\n",
    "\n",
    "for b in lob:\n",
    "    print('board #{}'.format(counter))\n",
    "    for s in b.snakes:\n",
    "        print('id: {}\\n - head: {}.\\n - body: {}'.format(s['id'],s['head'],s['body'])) #check movement\n",
    "    \n",
    "    counter += 1\n",
    "    print('\\n')\n",
    "\n",
    "for b in lob:\n",
    "    print(b.food) #checks food"
   ]
  },
  {
   "cell_type": "code",
   "execution_count": 1,
   "metadata": {},
   "outputs": [],
   "source": [
    "body = [{\"x\": 0, \"y\": 0}, \n",
    "        {\"x\": 1, \"y\": 0}, \n",
    "        {\"x\": 2, \"y\": 0}]"
   ]
  },
  {
   "cell_type": "code",
   "execution_count": 2,
   "metadata": {},
   "outputs": [],
   "source": [
    "body2 = [{\"x\": 0, \"y\": 0}, \n",
    "        {\"x\": 1, \"y\": 0}, \n",
    "        {\"x\": 2, \"y\": 0}]"
   ]
  },
  {
   "cell_type": "code",
   "execution_count": 3,
   "metadata": {},
   "outputs": [],
   "source": [
    "body3 = [{\"x\": 0, \"y\": 0}, \n",
    "        {\"x\": 1, \"y\": 0}, \n",
    "        {\"x\": 2, \"y\": 3}]"
   ]
  },
  {
   "cell_type": "code",
   "execution_count": 4,
   "metadata": {},
   "outputs": [],
   "source": [
    "opponents = [body,body2,body3]\n",
    "op_body = []"
   ]
  },
  {
   "cell_type": "code",
   "execution_count": 5,
   "metadata": {},
   "outputs": [],
   "source": [
    "for x in opponents:\n",
    "    op_body += x[:-1]"
   ]
  },
  {
   "cell_type": "code",
   "execution_count": 6,
   "metadata": {},
   "outputs": [
    {
     "data": {
      "text/plain": [
       "[{'x': 0, 'y': 0}, {'x': 1, 'y': 0}, {'x': 2, 'y': 0}, {'x': 9, 'y': 9}]"
      ]
     },
     "execution_count": 6,
     "metadata": {},
     "output_type": "execute_result"
    }
   ],
   "source": [
    "body + [{'x': 9, 'y':9}]"
   ]
  },
  {
   "cell_type": "code",
   "execution_count": null,
   "metadata": {},
   "outputs": [],
   "source": [
    "'''\n",
    "L L L L L L L L L L L\n",
    "L L L L L L L L L L L\n",
    "L L L L L L L L L L L\n",
    "L L L L L L L L L L L\n",
    "L L L L L L L L L L L\n",
    "L L L L L L L L L L L\n",
    "L L L L L L L L L L L\n",
    "L L L L L L L L L L L\n",
    "L L L L L L L L L L L\n",
    "L L L L L L L L L L L\n",
    "L L L L L L L L L L L\n",
    "'''"
   ]
  },
  {
   "cell_type": "code",
   "execution_count": null,
   "metadata": {},
   "outputs": [],
   "source": [
    "'''\n",
    "L L L L L L L L L L L\n",
    "L L L L L L L L L L L\n",
    "L L L L L L L L L L L\n",
    "L L L L L L L L L L L\n",
    "L L L L L L L L L L L\n",
    "L L L L L L L L L L L\n",
    "L L L L L L L L L L L\n",
    "L L L L L L L L L L L\n",
    "L 1 X L L L L L L L L\n",
    "L 1 < 2 2 L L L L L L\n",
    "L V F L L L L L L L L\n",
    "'''"
   ]
  },
  {
   "cell_type": "code",
   "execution_count": 273,
   "metadata": {},
   "outputs": [],
   "source": [
    "snakeobject11 = {\n",
    "  \"id\": \"sn1\",\n",
    "  \"name\": \"sn1\",\n",
    "  \"health\": 100,\n",
    "  \"body\": [{\"x\": 1, \"y\": 0}, {\"x\": 1, \"y\": 1}, {\"x\": 1, \"y\": 2}],\n",
    "  \"latency\": \"123\",\n",
    "  \"head\": {\"x\": 1, \"y\": 0},\n",
    "  \"length\": 3,\n",
    "  \"shout\": \"s!\",\n",
    "  \"squad\": \"1\",\n",
    "  \"customizations\":{\"color\":\"#26CF04\",\"head\":\"smile\",\"tail\":\"bolt\"}}"
   ]
  },
  {
   "cell_type": "code",
   "execution_count": 274,
   "metadata": {},
   "outputs": [],
   "source": [
    "snakeobject21 = {\n",
    "  \"id\": \"sn2\",\n",
    "  \"name\": \"sn2\",\n",
    "  \"health\": 100,\n",
    "  \"body\": [{\"x\": 2, \"y\": 1}, {\"x\": 3, \"y\": 1}, {\"x\": 4, \"y\": 1}],\n",
    "  \"latency\": \"123\",\n",
    "  \"head\": {\"x\": 2, \"y\": 1},\n",
    "  \"length\": 3,\n",
    "  \"shout\": \"s!\",\n",
    "  \"squad\": \"2\",\n",
    "  \"customizations\":{\"color\":\"#26CF04\",\"head\":\"smile\",\"tail\":\"bolt\"}}"
   ]
  },
  {
   "cell_type": "code",
   "execution_count": 275,
   "metadata": {},
   "outputs": [],
   "source": [
    "snakeobject12 = {\n",
    "  \"id\": \"sn3\",\n",
    "  \"name\": \"sn3\",\n",
    "  \"health\": 100,\n",
    "  \"body\": [{\"x\": 5, \"y\": 5}, {\"x\": 5, \"y\": 4}, {\"x\": 5, \"y\": 3}],\n",
    "  \"latency\": \"123\",\n",
    "  \"head\": {\"x\": 5, \"y\": 5},\n",
    "  \"length\": 3,\n",
    "  \"shout\": \"s!\",\n",
    "  \"squad\": \"1\",\n",
    "  \"customizations\":{\"color\":\"#26CF04\",\"head\":\"smile\",\"tail\":\"bolt\"}}"
   ]
  },
  {
   "cell_type": "code",
   "execution_count": 276,
   "metadata": {},
   "outputs": [],
   "source": [
    "snakeobject22 = {\n",
    "  \"id\": \"sn4\",\n",
    "  \"name\": \"sn4\",\n",
    "  \"health\": 100,\n",
    "  \"body\": [{\"x\": 7, \"y\": 6}, {\"x\": 7, \"y\": 7}, {\"x\": 7, \"y\": 8}],\n",
    "  \"latency\": \"123\",\n",
    "  \"head\": {\"x\": 7, \"y\": 6},\n",
    "  \"length\": 3,\n",
    "  \"shout\": \"s!\",\n",
    "  \"squad\": \"2\",\n",
    "  \"customizations\":{\"color\":\"#26CF04\",\"head\":\"smile\",\"tail\":\"bolt\"}}"
   ]
  },
  {
   "cell_type": "code",
   "execution_count": 277,
   "metadata": {},
   "outputs": [],
   "source": [
    "board1 = {\"height\": 11, \"width\": 11,\n",
    "  \"food\": [{\"x\": 2, \"y\": 0}],\n",
    "  \"hazards\": [{\"x\": 2, \"y\": 2}],\n",
    "  \"snakes\": [snakeobject11, snakeobject21]}"
   ]
  },
  {
   "cell_type": "code",
   "execution_count": 278,
   "metadata": {},
   "outputs": [],
   "source": [
    "board2 = {\"height\": 11, \"width\": 11,\n",
    "  \"food\": [{}],\n",
    "  \"hazards\": [{}],\n",
    "  \"snakes\": [snakeobject12, snakeobject22]}"
   ]
  },
  {
   "cell_type": "code",
   "execution_count": 279,
   "metadata": {},
   "outputs": [],
   "source": [
    "board3 = {\"height\": 11, \"width\": 11,\n",
    "  \"food\": [{\"x\": 2, \"y\": 0}],\n",
    "  \"hazards\": [{\"x\": 2, \"y\": 2}],\n",
    "  \"snakes\": [snakeobject11, snakeobject21, snakeobject12, snakeobject22]}"
   ]
  },
  {
   "cell_type": "code",
   "execution_count": null,
   "metadata": {},
   "outputs": [
    {
     "data": {
      "text/plain": [
       "['up', 'left', 'down', 'right']"
      ]
     },
     "metadata": {},
     "output_type": "display_data"
    }
   ],
   "source": [
    "'''\n",
    "L L L L L L L L L L L\n",
    "L L L L L L L L L L L\n",
    "L L L L L L L 4 L L L\n",
    "L L L L L L L X L L L\n",
    "L L L L L L L X L L L\n",
    "L L L L L ^ L L L L L\n",
    "L L L L L 3 L L L L L\n",
    "L L L L L 3 L L L L L\n",
    "L 1 X L L L L L L L L\n",
    "L 1 < 2 2 L L L L L L\n",
    "L V F L L L L L L L L\n",
    "'''"
   ]
  },
  {
   "cell_type": "code",
   "execution_count": null,
   "metadata": {},
   "outputs": [],
   "source": [
    "snake_name = \"sn3\"\n",
    "safe_moves = ['up','left','down','right']"
   ]
  },
  {
   "cell_type": "markdown",
   "metadata": {},
   "source": [
    "# Testing next_lob"
   ]
  },
  {
   "cell_type": "code",
   "execution_count": 350,
   "metadata": {},
   "outputs": [],
   "source": [
    "def next_lob(board, lolos, counter, branch):\n",
    "    # board: board object\n",
    "    # lolos: running list of snakes  #listof (listof snakes)\n",
    "    # counter: counter for each recursive loop\n",
    "    # branch: indicates my snake's moves. one of: 'left' 'right' 'up' 'down'\n",
    "    \n",
    "    # PULL ITEMS OUT OF THE BOARD OBJECT\n",
    "    snakes = board[\"snakes\"]             # listof [sn, sn, ...] - list of snakes on the board\n",
    "    snake = snakes[counter:counter+1][0] # [{\"id\": , ... }.{\"id\": , ...}] - snake which is going to be making the turn\n",
    "    hazards = board[\"hazards\"]           # listof [({'x':_,'y':_}),...] - list of coordinates of hazards\n",
    "    board_height = board[\"height\"]       # Natural\n",
    "    board_width = board[\"width\"]         # Natural\n",
    "    foods = board[\"food\"]                # listof [({'x':_,'y':_}),...] - list of coordinates of foods\n",
    "    \n",
    "    # INITIATE MOVE\n",
    "    # lolop_all4 is listof (listof {x,y})\n",
    "    # lolop_all4 represents all of the next possible moves for a given snake\n",
    "    # if the snake is my snake, it will simply generate the specific safe move as represented by branch\n",
    "    lolop_all4 = []\n",
    "\n",
    "    if (snake['name'] ==  snake_name):\n",
    "        if branch == 'up':\n",
    "            lolop_all4.append([{\"x\": snake['head']['x'] , \"y\": snake['head']['y']+1}] + snake['body'][:])\n",
    "        elif branch == 'down':\n",
    "            lolop_all4.append([{\"x\": snake['head']['x'] , \"y\": snake['head']['y']-1}] + snake['body'][:])\n",
    "        elif branch == 'left':\n",
    "            lolop_all4.append([{\"x\": snake['head']['x']-1, \"y\": snake['head']['y']}] + snake['body'][:])\n",
    "        elif branch == 'right':\n",
    "            lolop_all4.append([{\"x\": snake['head']['x']+1, \"y\": snake['head']['y']}] + snake['body'][:])\n",
    "\n",
    "    else: lolop_all4 = [\n",
    "            [{\"x\": snake['head']['x'] , \"y\": snake['head']['y']+1}] + snake['body'][:],\n",
    "            [{\"x\": snake['head']['x'] , \"y\": snake['head']['y']-1}] + snake['body'][:],\n",
    "            [{\"x\": snake['head']['x']-1 , \"y\": snake['head']['y']}] + snake['body'][:],\n",
    "            [{\"x\": snake['head']['x']+1 , \"y\": snake['head']['y']}] + snake['body'][:]\n",
    "        ]\n",
    "    \n",
    "    # HAZARD / OUT OF BOUNDS / IMPLODE\n",
    "    # lolop is a listof (listof {x,y})\n",
    "    # lolop screens out any snakes that have hit a hazard or is out of bounds\n",
    "    lolop = []\n",
    "    for p in lolop_all4:\n",
    "        if (not ((p[0] in hazards) or\n",
    "            (p[0]['x'] < 0) or\n",
    "            (p[0]['x'] > (board_width - 1)) or \n",
    "            (p[0]['y'] < 0) or\n",
    "            (p[0]['y'] > (board_height - 1)) or\n",
    "            (p[0] in p[1:]))):\n",
    "\n",
    "            lolop.append(p)\n",
    "\n",
    "    # FOOD\n",
    "    # lolop_food_adj is a listof (listof {x,y})\n",
    "    # foods_not_eaten is a listof {x,y}\n",
    "    # lolop_food_adj includes snakes adjusted for whether it ate a food or not\n",
    "    # foods_not_eaten is foods, with eaten foods removed \n",
    "    lolop_food_adj = []\n",
    "    foods_not_eaten = foods\n",
    "    for p in lolop:\n",
    "        if p[0] in foods:\n",
    "            lolop_food_adj.append(p)\n",
    "        else:\n",
    "            lolop_food_adj.append(p[:-1])\n",
    "        \n",
    "    for f in foods:\n",
    "        for p in lolop:\n",
    "            if f in p:\n",
    "                foods_not_eaten.remove(f)\n",
    "\n",
    "    # CONVERT POSITION TO SNAKE DATA\n",
    "    # lolop_to_lolos is a listof (listof snakes)\n",
    "    # lolop_to_lolos takes lolop_food_adj and produce list of list of snakes\n",
    "    lolop_to_lolos = []\n",
    "    for pos in lolop_food_adj:\n",
    "        lolop_to_lolos.append(\n",
    "            [{\n",
    "                \"id\": snake['id'],\n",
    "                \"name\": snake['name'],\n",
    "                \"health\": 54,\n",
    "                \"body\": pos,\n",
    "                \"latency\": snake['latency'],\n",
    "                \"head\": pos[0],\n",
    "                \"length\": len(pos),\n",
    "                \"shout\": snake['shout'],\n",
    "                \"squad\": snake['squad'],\n",
    "                \"customizations\": snake['customizations']\n",
    "            }]\n",
    "        )\n",
    "\n",
    "    # APPEND NEW SNAKE TO OLD LISTOF SNAKES\n",
    "    # next_lolos is a listof (listof snake)\n",
    "    # append new snakes to old list of snakes\n",
    "    next_lolos = [] #[[sn, sn, ...], [sn, sn, ...], [sn, sn, ...]]\n",
    "\n",
    "    if len(lolos) == 0:\n",
    "        next_lolos = lolop_to_lolos\n",
    "    else:    \n",
    "        for los in lolos:                           #starting list\n",
    "            losb = []\n",
    "            for s in los:                           #each snake already processed\n",
    "                losb.append(s['body'])              #add to listof snake bodies\n",
    "                \n",
    "            for s in lolop_to_lolos:                #new snake\n",
    "                if (s[0]['head'] not in losb[0]):   #append if not collided\n",
    "                    next_lolos.append(los + s)\n",
    "\n",
    "\n",
    "    # TEST OF RECURSION\n",
    "    # basecase condition: if we have looped through every snake on the board\n",
    "    # convert the list of snakes to board representations\n",
    "    # and return the board\n",
    "    counter += 1\n",
    "    if counter == len(snakes):\n",
    "        lob = []\n",
    "        for los in next_lolos:\n",
    "            lob.append(\n",
    "                {\"height\": board_height,\n",
    "                \"width\": board_width,\n",
    "                \"food\": foods_not_eaten,\n",
    "                \"hazards\": hazards,\n",
    "                \"snakes\": los \n",
    "                }\n",
    "            )\n",
    "        return lob\n",
    "\n",
    "    # Trust the natural recursion <3\n",
    "    return next_lob(board, next_lolos, counter, branch)"
   ]
  },
  {
   "cell_type": "code",
   "execution_count": 351,
   "metadata": {},
   "outputs": [
    {
     "data": {
      "text/plain": [
       "3"
      ]
     },
     "execution_count": 351,
     "metadata": {},
     "output_type": "execute_result"
    }
   ],
   "source": [
    "board = board3\n",
    "new_lob = next_lob(board, [], 0, 'left')\n",
    "len(new_lob)"
   ]
  },
  {
   "cell_type": "code",
   "execution_count": null,
   "metadata": {},
   "outputs": [],
   "source": [
    "new_safe_moves = safe_moves\n",
    "new_new_lob = []\n",
    "for b in next_lob(board, [], 0, 'left'):\n",
    "    my_snake = [snake for snake in b['snakes'] if snake['name'] == snake_name]\n",
    "    \n",
    "    if len(my_snake) > 0:\n",
    "        for m in new_safe_moves[b]: #new_safe_moves fn required\n",
    "            new_new_lob += next_lob(b, [], 0 , m)\n",
    "\n",
    "len(new_new_lob)"
   ]
  },
  {
   "cell_type": "code",
   "execution_count": 367,
   "metadata": {},
   "outputs": [
    {
     "data": {
      "text/plain": [
       "-1458.3333333333335"
      ]
     },
     "execution_count": 367,
     "metadata": {},
     "output_type": "execute_result"
    }
   ],
   "source": [
    "score = mean([score_b(b) for b in new_lolob])\n",
    "score"
   ]
  },
  {
   "cell_type": "markdown",
   "metadata": {},
   "source": [
    "# Testing score_b"
   ]
  },
  {
   "cell_type": "code",
   "execution_count": 344,
   "metadata": {},
   "outputs": [],
   "source": [
    "from statistics import mean\n",
    "\n",
    "def score_b(board):\n",
    "    my_snake = [snake for snake in board['snakes'] if snake['name'] == snake_name]\n",
    "\n",
    "    #my_state: am i alive\n",
    "    my_state = 0\n",
    "    if len(my_snake) == 0:\n",
    "        my_state = -10000 \n",
    "    \n",
    "    #distance to food: the closer the better\n",
    "    distance = 0\n",
    "    \n",
    "    #n_enemies: the lower the better\n",
    "    n_enemies = 0\n",
    "\n",
    "    factors = [my_state, distance, n_enemies]\n",
    "    score = mean(factors)\n",
    "    return score"
   ]
  },
  {
   "cell_type": "code",
   "execution_count": 345,
   "metadata": {},
   "outputs": [
    {
     "data": {
      "text/plain": [
       "{'up': 0, 'left': 0, 'down': -3333.3333333333335, 'right': 0}"
      ]
     },
     "execution_count": 345,
     "metadata": {},
     "output_type": "execute_result"
    }
   ],
   "source": [
    "score_lob(lob)\n",
    "scores = {}\n",
    "\n",
    "for move in safe_moves:\n",
    "    score = mean([score_b(b) for b in next_lob(board3, [], 0 , move)])\n",
    "    scores[move] = score\n",
    "\n",
    "scores"
   ]
  },
  {
   "cell_type": "code",
   "execution_count": 466,
   "metadata": {},
   "outputs": [],
   "source": [
    "snake_name = 'sn1'"
   ]
  },
  {
   "cell_type": "code",
   "execution_count": 467,
   "metadata": {},
   "outputs": [
    {
     "name": "stdout",
     "output_type": "stream",
     "text": [
      "length of scores for up branch is 0\n",
      "length of scores for left branch is 567\n",
      "length of scores for down branch is 0\n",
      "length of scores for right branch is 0\n"
     ]
    },
    {
     "data": {
      "text/html": [
       "<div>\n",
       "<style scoped>\n",
       "    .dataframe tbody tr th:only-of-type {\n",
       "        vertical-align: middle;\n",
       "    }\n",
       "\n",
       "    .dataframe tbody tr th {\n",
       "        vertical-align: top;\n",
       "    }\n",
       "\n",
       "    .dataframe thead th {\n",
       "        text-align: right;\n",
       "    }\n",
       "</style>\n",
       "<table border=\"1\" class=\"dataframe\">\n",
       "  <thead>\n",
       "    <tr style=\"text-align: right;\">\n",
       "      <th></th>\n",
       "      <th>moves</th>\n",
       "      <th>scores</th>\n",
       "    </tr>\n",
       "  </thead>\n",
       "  <tbody>\n",
       "    <tr>\n",
       "      <th>0</th>\n",
       "      <td>left</td>\n",
       "      <td>-2857.142857</td>\n",
       "    </tr>\n",
       "  </tbody>\n",
       "</table>\n",
       "</div>"
      ],
      "text/plain": [
       "  moves       scores\n",
       "0  left -2857.142857"
      ]
     },
     "execution_count": 467,
     "metadata": {},
     "output_type": "execute_result"
    }
   ],
   "source": [
    "moves = []\n",
    "scores = []\n",
    "summary = pd.DataFrame()\n",
    "\n",
    "for move in safe_moves:\n",
    "    new_new_lob = []\n",
    "    for b in next_lob(board, [], 0, move):\n",
    "        my_snake = [snake for snake in b['snakes'] if snake['name'] == snake_name]\n",
    "        \n",
    "        if len(my_snake) > 0:\n",
    "            for move2 in safe_moves: #TODO: new_safe_moves fn required\n",
    "                new_new_lob += next_lob(b, [], 0 , move2)\n",
    "\n",
    "    score = [score_b(b) for b in new_new_lob]\n",
    "    print('length of scores for {} branch is {}'.format(move, len(score)))\n",
    "\n",
    "    if len(score) > 0:\n",
    "        moves.append(move)\n",
    "        scores.append(mean(score))\n",
    "    \n",
    "summary[\"moves\"] = moves\n",
    "summary[\"scores\"] = scores\n",
    "summary"
   ]
  },
  {
   "cell_type": "code",
   "execution_count": 468,
   "metadata": {},
   "outputs": [
    {
     "data": {
      "text/plain": [
       "['left']"
      ]
     },
     "execution_count": 468,
     "metadata": {},
     "output_type": "execute_result"
    }
   ],
   "source": [
    "max_score = max(summary['scores'])\n",
    "best_next_moves = []\n",
    "for i in range(len(summary)):\n",
    "    if summary['scores'][i] == max_score:\n",
    "        best_next_moves.append(summary['moves'][i])\n",
    "\n",
    "\n",
    "best_next_moves"
   ]
  },
  {
   "cell_type": "code",
   "execution_count": 450,
   "metadata": {},
   "outputs": [
    {
     "data": {
      "text/plain": [
       "moves       right\n",
       "scores   -833.333\n",
       "Name: 2, dtype: object"
      ]
     },
     "execution_count": 450,
     "metadata": {},
     "output_type": "execute_result"
    }
   ],
   "source": [
    "summary.iloc[2]"
   ]
  },
  {
   "cell_type": "code",
   "execution_count": null,
   "metadata": {},
   "outputs": [],
   "source": [
    "next_best_moves = summary"
   ]
  },
  {
   "cell_type": "code",
   "execution_count": null,
   "metadata": {},
   "outputs": [
    {
     "data": {
      "text/plain": [
       "['up', 'left', 'down', 'right']"
      ]
     },
     "metadata": {},
     "output_type": "display_data"
    }
   ],
   "source": [
    "''' board3\n",
    "L L L L L L L L L L L\n",
    "L L L L L L L L L L L\n",
    "L L L L L L L 4 L L L\n",
    "L L L L L L L 4 L L L\n",
    "L L L L L L L V L L L\n",
    "L L L L L A L L L L L\n",
    "L L L L L 3 L L L L L\n",
    "L L L L L 3 L L L L L\n",
    "L 1 X L L L L L L L L\n",
    "L 1 < 2 2 L L L L L L\n",
    "L V F L L L L L L L L\n",
    "'''"
   ]
  },
  {
   "cell_type": "code",
   "execution_count": 469,
   "metadata": {},
   "outputs": [],
   "source": [
    "def score_b(board):\n",
    "    my_snake = [snake for snake in board['snakes'] if snake['name'] == snake_name]\n",
    "\n",
    "    #death_aversion: am i alive\n",
    "    death_aversion = 0\n",
    "    hunger_aversion = 0\n",
    "    agression = 0\n",
    "\n",
    "    if len(my_snake) == 0:\n",
    "      death_aversion = -1000\n",
    "    elif len(my_snake) == 1:\n",
    "      hunger_aversion = my_snake[0]['length']\n",
    "      \n",
    "      agression = -100 * len(board['snakes'].remove(my_snake[0]))\n",
    "    \n",
    "    #distance to food: the closer the better\n",
    "    distance = 0\n",
    "    \n",
    "\n",
    "    factors = [death_aversion, distance, agression, hunger_aversion]\n",
    "    score = mean(factors)\n",
    "    return score"
   ]
  },
  {
   "cell_type": "code",
   "execution_count": 487,
   "metadata": {},
   "outputs": [
    {
     "data": {
      "text/plain": [
       "'sn1'"
      ]
     },
     "execution_count": 487,
     "metadata": {},
     "output_type": "execute_result"
    }
   ],
   "source": [
    "snake_name"
   ]
  },
  {
   "cell_type": "code",
   "execution_count": 499,
   "metadata": {},
   "outputs": [],
   "source": [
    "board3 = {\"height\": 11, \"width\": 11,\n",
    "  \"food\": [{\"x\": 2, \"y\": 0}],\n",
    "  \"hazards\": [{\"x\": 2, \"y\": 2}],\n",
    "  \"snakes\": [snakeobject11, snakeobject21, snakeobject12, snakeobject22]}"
   ]
  },
  {
   "cell_type": "code",
   "execution_count": 500,
   "metadata": {},
   "outputs": [],
   "source": [
    "board = board3"
   ]
  },
  {
   "cell_type": "markdown",
   "metadata": {},
   "source": [
    "## Make new safe moves"
   ]
  },
  {
   "cell_type": "code",
   "execution_count": 516,
   "metadata": {},
   "outputs": [
    {
     "data": {
      "text/plain": [
       "[{'id': 'sn1',\n",
       "  'name': 'sn1',\n",
       "  'health': 100,\n",
       "  'body': [{'x': 1, 'y': 0}, {'x': 1, 'y': 1}, {'x': 1, 'y': 2}],\n",
       "  'latency': '123',\n",
       "  'head': {'x': 1, 'y': 0},\n",
       "  'length': 3,\n",
       "  'shout': 's!',\n",
       "  'squad': '1',\n",
       "  'customizations': {'color': '#26CF04', 'head': 'smile', 'tail': 'bolt'}}]"
      ]
     },
     "execution_count": 516,
     "metadata": {},
     "output_type": "execute_result"
    }
   ],
   "source": [
    "my_snake"
   ]
  },
  {
   "cell_type": "code",
   "execution_count": 509,
   "metadata": {},
   "outputs": [
    {
     "data": {
      "text/plain": [
       "{'height': 11,\n",
       " 'width': 11,\n",
       " 'food': [{'x': 2, 'y': 0}],\n",
       " 'hazards': [{'x': 2, 'y': 2}],\n",
       " 'snakes': [{'id': 'sn1',\n",
       "   'name': 'sn1',\n",
       "   'health': 100,\n",
       "   'body': [{'x': 1, 'y': 0}, {'x': 1, 'y': 1}, {'x': 1, 'y': 2}],\n",
       "   'latency': '123',\n",
       "   'head': {'x': 1, 'y': 0},\n",
       "   'length': 3,\n",
       "   'shout': 's!',\n",
       "   'squad': '1',\n",
       "   'customizations': {'color': '#26CF04', 'head': 'smile', 'tail': 'bolt'}},\n",
       "  {'id': 'sn2',\n",
       "   'name': 'sn2',\n",
       "   'health': 100,\n",
       "   'body': [{'x': 2, 'y': 1}, {'x': 3, 'y': 1}, {'x': 4, 'y': 1}],\n",
       "   'latency': '123',\n",
       "   'head': {'x': 2, 'y': 1},\n",
       "   'length': 3,\n",
       "   'shout': 's!',\n",
       "   'squad': '2',\n",
       "   'customizations': {'color': '#26CF04', 'head': 'smile', 'tail': 'bolt'}},\n",
       "  {'id': 'sn3',\n",
       "   'name': 'sn3',\n",
       "   'health': 100,\n",
       "   'body': [{'x': 5, 'y': 5}, {'x': 5, 'y': 4}, {'x': 5, 'y': 3}],\n",
       "   'latency': '123',\n",
       "   'head': {'x': 5, 'y': 5},\n",
       "   'length': 3,\n",
       "   'shout': 's!',\n",
       "   'squad': '1',\n",
       "   'customizations': {'color': '#26CF04', 'head': 'smile', 'tail': 'bolt'}},\n",
       "  {'id': 'sn4',\n",
       "   'name': 'sn4',\n",
       "   'health': 100,\n",
       "   'body': [{'x': 7, 'y': 6}, {'x': 7, 'y': 7}, {'x': 7, 'y': 8}],\n",
       "   'latency': '123',\n",
       "   'head': {'x': 7, 'y': 6},\n",
       "   'length': 3,\n",
       "   'shout': 's!',\n",
       "   'squad': '2',\n",
       "   'customizations': {'color': '#26CF04', 'head': 'smile', 'tail': 'bolt'}}]}"
      ]
     },
     "execution_count": 509,
     "metadata": {},
     "output_type": "execute_result"
    }
   ],
   "source": [
    "board"
   ]
  },
  {
   "cell_type": "code",
   "execution_count": 533,
   "metadata": {},
   "outputs": [
    {
     "data": {
      "text/plain": [
       "[{'x': 1, 'y': 0},\n",
       " {'x': 1, 'y': 1},\n",
       " {'x': 1, 'y': 2},\n",
       " {'x': 2, 'y': 1},\n",
       " {'x': 3, 'y': 1},\n",
       " {'x': 4, 'y': 1},\n",
       " {'x': 5, 'y': 5},\n",
       " {'x': 5, 'y': 4},\n",
       " {'x': 5, 'y': 3},\n",
       " {'x': 7, 'y': 6},\n",
       " {'x': 7, 'y': 7},\n",
       " {'x': 7, 'y': 8}]"
      ]
     },
     "execution_count": 533,
     "metadata": {},
     "output_type": "execute_result"
    }
   ],
   "source": []
  },
  {
   "cell_type": "code",
   "execution_count": 537,
   "metadata": {},
   "outputs": [],
   "source": [
    "board_height = 11\n",
    "board_width = 11"
   ]
  },
  {
   "cell_type": "code",
   "execution_count": 550,
   "metadata": {},
   "outputs": [],
   "source": []
  },
  {
   "cell_type": "code",
   "execution_count": 552,
   "metadata": {},
   "outputs": [],
   "source": []
  },
  {
   "cell_type": "code",
   "execution_count": 553,
   "metadata": {},
   "outputs": [],
   "source": [
    "loh = board['hazards']\n",
    "lob = sum([sn['body'][:-1] for sn in board['snakes']],[])\n",
    "\n",
    "low = []\n",
    "\n",
    "max_height = board_height\n",
    "max_width = board_width\n",
    "for h in range(board_height+1):\n",
    "    low.append({\"x\":-1, \"y\":h})\n",
    "    low.append({\"x\":max_width, \"y\":h})\n",
    "\n",
    "for w in range(board_width+1):\n",
    "    low.append({\"x\":w, \"y\":-1})\n",
    "    low.append({\"x\":w, \"y\":max_height})\n",
    "\n",
    "lod = (lob + lob + low)"
   ]
  },
  {
   "cell_type": "code",
   "execution_count": 563,
   "metadata": {},
   "outputs": [],
   "source": [
    "next_pos = my_snake[0][\"head\"]\n",
    "\n",
    "next_moves = [{'move': 'left', 'pos': {\"x\": next_pos[\"x\"]-1, \"y\": next_pos[\"y\"]}},\n",
    "    {'move': 'right', 'pos': {\"x\": next_pos[\"x\"]+1, \"y\": next_pos[\"y\"]}},\n",
    "    {'move': 'down', 'pos': {\"x\": next_pos[\"x\"], \"y\": next_pos[\"y\"]-1}},\n",
    "    {'move': 'up', 'pos': {\"x\": next_pos[\"x\"], \"y\": next_pos[\"y\"]+1}}]"
   ]
  },
  {
   "cell_type": "code",
   "execution_count": 564,
   "metadata": {},
   "outputs": [],
   "source": [
    "safe_next_moves = [m['move'] for m in next_moves if m['pos'] not in lod]\n",
    "unsafe_next_moves = [m['move'] for m in next_moves if m['pos'] in lod]"
   ]
  },
  {
   "cell_type": "code",
   "execution_count": 518,
   "metadata": {},
   "outputs": [
    {
     "data": {
      "text/plain": [
       "{'x': 1, 'y': 0}"
      ]
     },
     "execution_count": 518,
     "metadata": {},
     "output_type": "execute_result"
    }
   ],
   "source": [
    "if len(safe_next_moves) == 0:\n",
    "    safe_next_moves = unsafe_next_moves\n",
    "\n"
   ]
  },
  {
   "cell_type": "code",
   "execution_count": 501,
   "metadata": {},
   "outputs": [
    {
     "data": {
      "text/plain": [
       "[{'id': 'sn1',\n",
       "  'name': 'sn1',\n",
       "  'health': 100,\n",
       "  'body': [{'x': 1, 'y': 0}, {'x': 1, 'y': 1}, {'x': 1, 'y': 2}],\n",
       "  'latency': '123',\n",
       "  'head': {'x': 1, 'y': 0},\n",
       "  'length': 3,\n",
       "  'shout': 's!',\n",
       "  'squad': '1',\n",
       "  'customizations': {'color': '#26CF04', 'head': 'smile', 'tail': 'bolt'}},\n",
       " {'id': 'sn2',\n",
       "  'name': 'sn2',\n",
       "  'health': 100,\n",
       "  'body': [{'x': 2, 'y': 1}, {'x': 3, 'y': 1}, {'x': 4, 'y': 1}],\n",
       "  'latency': '123',\n",
       "  'head': {'x': 2, 'y': 1},\n",
       "  'length': 3,\n",
       "  'shout': 's!',\n",
       "  'squad': '2',\n",
       "  'customizations': {'color': '#26CF04', 'head': 'smile', 'tail': 'bolt'}},\n",
       " {'id': 'sn3',\n",
       "  'name': 'sn3',\n",
       "  'health': 100,\n",
       "  'body': [{'x': 5, 'y': 5}, {'x': 5, 'y': 4}, {'x': 5, 'y': 3}],\n",
       "  'latency': '123',\n",
       "  'head': {'x': 5, 'y': 5},\n",
       "  'length': 3,\n",
       "  'shout': 's!',\n",
       "  'squad': '1',\n",
       "  'customizations': {'color': '#26CF04', 'head': 'smile', 'tail': 'bolt'}},\n",
       " {'id': 'sn4',\n",
       "  'name': 'sn4',\n",
       "  'health': 100,\n",
       "  'body': [{'x': 7, 'y': 6}, {'x': 7, 'y': 7}, {'x': 7, 'y': 8}],\n",
       "  'latency': '123',\n",
       "  'head': {'x': 7, 'y': 6},\n",
       "  'length': 3,\n",
       "  'shout': 's!',\n",
       "  'squad': '2',\n",
       "  'customizations': {'color': '#26CF04', 'head': 'smile', 'tail': 'bolt'}}]"
      ]
     },
     "execution_count": 501,
     "metadata": {},
     "output_type": "execute_result"
    }
   ],
   "source": [
    "board['snakes']"
   ]
  },
  {
   "cell_type": "code",
   "execution_count": 502,
   "metadata": {},
   "outputs": [
    {
     "data": {
      "text/plain": [
       "[{'id': 'sn1',\n",
       "  'name': 'sn1',\n",
       "  'health': 100,\n",
       "  'body': [{'x': 1, 'y': 0}, {'x': 1, 'y': 1}, {'x': 1, 'y': 2}],\n",
       "  'latency': '123',\n",
       "  'head': {'x': 1, 'y': 0},\n",
       "  'length': 3,\n",
       "  'shout': 's!',\n",
       "  'squad': '1',\n",
       "  'customizations': {'color': '#26CF04', 'head': 'smile', 'tail': 'bolt'}}]"
      ]
     },
     "execution_count": 502,
     "metadata": {},
     "output_type": "execute_result"
    }
   ],
   "source": [
    "my_snake = [snake for snake in board['snakes'] if snake['name'] == snake_name]\n",
    "my_snake"
   ]
  },
  {
   "cell_type": "code",
   "execution_count": 506,
   "metadata": {},
   "outputs": [
    {
     "data": {
      "text/plain": [
       "[{'id': 'sn1',\n",
       "  'name': 'sn1',\n",
       "  'health': 100,\n",
       "  'body': [{'x': 1, 'y': 0}, {'x': 1, 'y': 1}, {'x': 1, 'y': 2}],\n",
       "  'latency': '123',\n",
       "  'head': {'x': 1, 'y': 0},\n",
       "  'length': 3,\n",
       "  'shout': 's!',\n",
       "  'squad': '1',\n",
       "  'customizations': {'color': '#26CF04', 'head': 'smile', 'tail': 'bolt'}},\n",
       " {'id': 'sn2',\n",
       "  'name': 'sn2',\n",
       "  'health': 100,\n",
       "  'body': [{'x': 2, 'y': 1}, {'x': 3, 'y': 1}, {'x': 4, 'y': 1}],\n",
       "  'latency': '123',\n",
       "  'head': {'x': 2, 'y': 1},\n",
       "  'length': 3,\n",
       "  'shout': 's!',\n",
       "  'squad': '2',\n",
       "  'customizations': {'color': '#26CF04', 'head': 'smile', 'tail': 'bolt'}},\n",
       " {'id': 'sn3',\n",
       "  'name': 'sn3',\n",
       "  'health': 100,\n",
       "  'body': [{'x': 5, 'y': 5}, {'x': 5, 'y': 4}, {'x': 5, 'y': 3}],\n",
       "  'latency': '123',\n",
       "  'head': {'x': 5, 'y': 5},\n",
       "  'length': 3,\n",
       "  'shout': 's!',\n",
       "  'squad': '1',\n",
       "  'customizations': {'color': '#26CF04', 'head': 'smile', 'tail': 'bolt'}},\n",
       " {'id': 'sn4',\n",
       "  'name': 'sn4',\n",
       "  'health': 100,\n",
       "  'body': [{'x': 7, 'y': 6}, {'x': 7, 'y': 7}, {'x': 7, 'y': 8}],\n",
       "  'latency': '123',\n",
       "  'head': {'x': 7, 'y': 6},\n",
       "  'length': 3,\n",
       "  'shout': 's!',\n",
       "  'squad': '2',\n",
       "  'customizations': {'color': '#26CF04', 'head': 'smile', 'tail': 'bolt'}}]"
      ]
     },
     "execution_count": 506,
     "metadata": {},
     "output_type": "execute_result"
    }
   ],
   "source": [
    "tmp = board['snakes'].copy()\n",
    "tmp"
   ]
  },
  {
   "cell_type": "code",
   "execution_count": 507,
   "metadata": {},
   "outputs": [],
   "source": [
    "tmp.remove(my_snake[0])"
   ]
  },
  {
   "cell_type": "code",
   "execution_count": null,
   "metadata": {},
   "outputs": [],
   "source": []
  },
  {
   "cell_type": "code",
   "execution_count": 508,
   "metadata": {},
   "outputs": [
    {
     "data": {
      "text/plain": [
       "[{'id': 'sn2',\n",
       "  'name': 'sn2',\n",
       "  'health': 100,\n",
       "  'body': [{'x': 2, 'y': 1}, {'x': 3, 'y': 1}, {'x': 4, 'y': 1}],\n",
       "  'latency': '123',\n",
       "  'head': {'x': 2, 'y': 1},\n",
       "  'length': 3,\n",
       "  'shout': 's!',\n",
       "  'squad': '2',\n",
       "  'customizations': {'color': '#26CF04', 'head': 'smile', 'tail': 'bolt'}},\n",
       " {'id': 'sn3',\n",
       "  'name': 'sn3',\n",
       "  'health': 100,\n",
       "  'body': [{'x': 5, 'y': 5}, {'x': 5, 'y': 4}, {'x': 5, 'y': 3}],\n",
       "  'latency': '123',\n",
       "  'head': {'x': 5, 'y': 5},\n",
       "  'length': 3,\n",
       "  'shout': 's!',\n",
       "  'squad': '1',\n",
       "  'customizations': {'color': '#26CF04', 'head': 'smile', 'tail': 'bolt'}},\n",
       " {'id': 'sn4',\n",
       "  'name': 'sn4',\n",
       "  'health': 100,\n",
       "  'body': [{'x': 7, 'y': 6}, {'x': 7, 'y': 7}, {'x': 7, 'y': 8}],\n",
       "  'latency': '123',\n",
       "  'head': {'x': 7, 'y': 6},\n",
       "  'length': 3,\n",
       "  'shout': 's!',\n",
       "  'squad': '2',\n",
       "  'customizations': {'color': '#26CF04', 'head': 'smile', 'tail': 'bolt'}}]"
      ]
     },
     "execution_count": 508,
     "metadata": {},
     "output_type": "execute_result"
    }
   ],
   "source": [
    "tmp"
   ]
  },
  {
   "cell_type": "code",
   "execution_count": null,
   "metadata": {},
   "outputs": [],
   "source": []
  }
 ],
 "metadata": {
  "kernelspec": {
   "display_name": "Python 3.9.7 ('base')",
   "language": "python",
   "name": "python3"
  },
  "language_info": {
   "codemirror_mode": {
    "name": "ipython",
    "version": 3
   },
   "file_extension": ".py",
   "mimetype": "text/x-python",
   "name": "python",
   "nbconvert_exporter": "python",
   "pygments_lexer": "ipython3",
   "version": "3.9.7"
  },
  "orig_nbformat": 4,
  "vscode": {
   "interpreter": {
    "hash": "78ab87c74ca3b69a28c876eb06cb7d51e3c39613ec0dd9d29b1ed3e77b2a50a7"
   }
  }
 },
 "nbformat": 4,
 "nbformat_minor": 2
}

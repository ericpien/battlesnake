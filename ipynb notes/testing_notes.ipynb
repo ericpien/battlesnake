{
 "cells": [
  {
   "cell_type": "code",
   "execution_count": 1,
   "metadata": {},
   "outputs": [],
   "source": [
    "body = [{\"x\": 0, \"y\": 0}, \n",
    "        {\"x\": 1, \"y\": 0}, \n",
    "        {\"x\": 2, \"y\": 0}]"
   ]
  },
  {
   "cell_type": "code",
   "execution_count": 2,
   "metadata": {},
   "outputs": [],
   "source": [
    "body2 = [{\"x\": 0, \"y\": 0}, \n",
    "        {\"x\": 1, \"y\": 0}, \n",
    "        {\"x\": 2, \"y\": 0}]"
   ]
  },
  {
   "cell_type": "code",
   "execution_count": 3,
   "metadata": {},
   "outputs": [],
   "source": [
    "body3 = [{\"x\": 0, \"y\": 0}, \n",
    "        {\"x\": 1, \"y\": 0}, \n",
    "        {\"x\": 2, \"y\": 3}]"
   ]
  },
  {
   "cell_type": "code",
   "execution_count": 4,
   "metadata": {},
   "outputs": [],
   "source": [
    "opponents = [body,body2,body3]\n",
    "op_body = []"
   ]
  },
  {
   "cell_type": "code",
   "execution_count": 5,
   "metadata": {},
   "outputs": [],
   "source": [
    "for x in opponents:\n",
    "    op_body += x[:-1]"
   ]
  },
  {
   "cell_type": "code",
   "execution_count": 6,
   "metadata": {},
   "outputs": [
    {
     "data": {
      "text/plain": [
       "[{'x': 0, 'y': 0}, {'x': 1, 'y': 0}, {'x': 2, 'y': 0}, {'x': 9, 'y': 9}]"
      ]
     },
     "execution_count": 6,
     "metadata": {},
     "output_type": "execute_result"
    }
   ],
   "source": [
    "body + [{'x': 9, 'y':9}]"
   ]
  },
  {
   "cell_type": "code",
   "execution_count": null,
   "metadata": {},
   "outputs": [],
   "source": [
    "'''\n",
    "L L L L L L L L L L L\n",
    "L L L L L L L L L L L\n",
    "L L L L L L L L L L L\n",
    "L L L L L L L L L L L\n",
    "L L L L L L L L L L L\n",
    "L L L L L L L L L L L\n",
    "L L L L L L L L L L L\n",
    "L L L L L L L L L L L\n",
    "L L L L L L L L L L L\n",
    "L L L L L L L L L L L\n",
    "L L L L L L L L L L L\n",
    "'''"
   ]
  },
  {
   "cell_type": "code",
   "execution_count": null,
   "metadata": {},
   "outputs": [],
   "source": [
    "'''\n",
    "L L L L L L L L L L L\n",
    "L L L L L L L L L L L\n",
    "L L L L L L L L L L L\n",
    "L L L L L L L L L L L\n",
    "L L L L L L L L L L L\n",
    "L L L L L L L L L L L\n",
    "L L L L L L L L L L L\n",
    "L L L L L L L L L L L\n",
    "L 1 X L L L L L L L L\n",
    "L 1 < 2 2 L L L L L L\n",
    "L V F L L L L L L L L\n",
    "'''"
   ]
  },
  {
   "cell_type": "code",
   "execution_count": 273,
   "metadata": {},
   "outputs": [],
   "source": [
    "snakeobject11 = {\n",
    "  \"id\": \"sn1\",\n",
    "  \"name\": \"sn1\",\n",
    "  \"health\": 100,\n",
    "  \"body\": [{\"x\": 1, \"y\": 0}, {\"x\": 1, \"y\": 1}, {\"x\": 1, \"y\": 2}],\n",
    "  \"latency\": \"123\",\n",
    "  \"head\": {\"x\": 1, \"y\": 0},\n",
    "  \"length\": 3,\n",
    "  \"shout\": \"s!\",\n",
    "  \"squad\": \"1\",\n",
    "  \"customizations\":{\"color\":\"#26CF04\",\"head\":\"smile\",\"tail\":\"bolt\"}}"
   ]
  },
  {
   "cell_type": "code",
   "execution_count": 274,
   "metadata": {},
   "outputs": [],
   "source": [
    "snakeobject21 = {\n",
    "  \"id\": \"sn2\",\n",
    "  \"name\": \"sn2\",\n",
    "  \"health\": 100,\n",
    "  \"body\": [{\"x\": 2, \"y\": 1}, {\"x\": 3, \"y\": 1}, {\"x\": 4, \"y\": 1}],\n",
    "  \"latency\": \"123\",\n",
    "  \"head\": {\"x\": 2, \"y\": 1},\n",
    "  \"length\": 3,\n",
    "  \"shout\": \"s!\",\n",
    "  \"squad\": \"2\",\n",
    "  \"customizations\":{\"color\":\"#26CF04\",\"head\":\"smile\",\"tail\":\"bolt\"}}"
   ]
  },
  {
   "cell_type": "code",
   "execution_count": 275,
   "metadata": {},
   "outputs": [],
   "source": [
    "snakeobject12 = {\n",
    "  \"id\": \"sn3\",\n",
    "  \"name\": \"sn3\",\n",
    "  \"health\": 100,\n",
    "  \"body\": [{\"x\": 5, \"y\": 5}, {\"x\": 5, \"y\": 4}, {\"x\": 5, \"y\": 3}],\n",
    "  \"latency\": \"123\",\n",
    "  \"head\": {\"x\": 5, \"y\": 5},\n",
    "  \"length\": 3,\n",
    "  \"shout\": \"s!\",\n",
    "  \"squad\": \"1\",\n",
    "  \"customizations\":{\"color\":\"#26CF04\",\"head\":\"smile\",\"tail\":\"bolt\"}}"
   ]
  },
  {
   "cell_type": "code",
   "execution_count": 276,
   "metadata": {},
   "outputs": [],
   "source": [
    "snakeobject22 = {\n",
    "  \"id\": \"sn4\",\n",
    "  \"name\": \"sn4\",\n",
    "  \"health\": 100,\n",
    "  \"body\": [{\"x\": 7, \"y\": 6}, {\"x\": 7, \"y\": 7}, {\"x\": 7, \"y\": 8}],\n",
    "  \"latency\": \"123\",\n",
    "  \"head\": {\"x\": 7, \"y\": 6},\n",
    "  \"length\": 3,\n",
    "  \"shout\": \"s!\",\n",
    "  \"squad\": \"2\",\n",
    "  \"customizations\":{\"color\":\"#26CF04\",\"head\":\"smile\",\"tail\":\"bolt\"}}"
   ]
  },
  {
   "cell_type": "code",
   "execution_count": 277,
   "metadata": {},
   "outputs": [],
   "source": [
    "board1 = {\"height\": 11, \"width\": 11,\n",
    "  \"food\": [{\"x\": 2, \"y\": 0}],\n",
    "  \"hazards\": [{\"x\": 2, \"y\": 2}],\n",
    "  \"snakes\": [snakeobject11, snakeobject21]}"
   ]
  },
  {
   "cell_type": "code",
   "execution_count": 278,
   "metadata": {},
   "outputs": [],
   "source": [
    "board2 = {\"height\": 11, \"width\": 11,\n",
    "  \"food\": [{}],\n",
    "  \"hazards\": [{}],\n",
    "  \"snakes\": [snakeobject12, snakeobject22]}"
   ]
  },
  {
   "cell_type": "code",
   "execution_count": 279,
   "metadata": {},
   "outputs": [],
   "source": [
    "board3 = {\"height\": 11, \"width\": 11,\n",
    "  \"food\": [{\"x\": 2, \"y\": 0}],\n",
    "  \"hazards\": [{\"x\": 2, \"y\": 2}],\n",
    "  \"snakes\": [snakeobject11, snakeobject21, snakeobject12, snakeobject22]}"
   ]
  },
  {
   "cell_type": "code",
   "execution_count": null,
   "metadata": {},
   "outputs": [
    {
     "data": {
      "text/plain": [
       "['up', 'left', 'down', 'right']"
      ]
     },
     "metadata": {},
     "output_type": "display_data"
    }
   ],
   "source": [
    "'''\n",
    "L L L L L L L L L L L\n",
    "L L L L L L L L L L L\n",
    "L L L L L L L 4 L L L\n",
    "L L L L L L L X L L L\n",
    "L L L L L L L X L L L\n",
    "L L L L L ^ L L L L L\n",
    "L L L L L 3 L L L L L\n",
    "L L L L L 3 L L L L L\n",
    "L 1 X L L L L L L L L\n",
    "L 1 < 2 2 L L L L L L\n",
    "L V F L L L L L L L L\n",
    "'''"
   ]
  },
  {
   "cell_type": "code",
   "execution_count": null,
   "metadata": {},
   "outputs": [],
   "source": [
    "snake_name = \"sn3\"\n",
    "safe_moves = ['up','left','down','right']"
   ]
  },
  {
   "cell_type": "markdown",
   "metadata": {},
   "source": [
    "# Testing next_lob"
   ]
  },
  {
   "cell_type": "code",
   "execution_count": 350,
   "metadata": {},
   "outputs": [],
   "source": [
    "def next_lob(board, lolos, counter, branch):\n",
    "    # board: board object\n",
    "    # lolos: running list of snakes  #listof (listof snakes)\n",
    "    # counter: counter for each recursive loop\n",
    "    # branch: indicates my snake's moves. one of: 'left' 'right' 'up' 'down'\n",
    "    \n",
    "    # PULL ITEMS OUT OF THE BOARD OBJECT\n",
    "    snakes = board[\"snakes\"]             # listof [sn, sn, ...] - list of snakes on the board\n",
    "    snake = snakes[counter:counter+1][0] # [{\"id\": , ... }.{\"id\": , ...}] - snake which is going to be making the turn\n",
    "    hazards = board[\"hazards\"]           # listof [({'x':_,'y':_}),...] - list of coordinates of hazards\n",
    "    board_height = board[\"height\"]       # Natural\n",
    "    board_width = board[\"width\"]         # Natural\n",
    "    foods = board[\"food\"]                # listof [({'x':_,'y':_}),...] - list of coordinates of foods\n",
    "    \n",
    "    # INITIATE MOVE\n",
    "    # lolop_all4 is listof (listof {x,y})\n",
    "    # lolop_all4 represents all of the next possible moves for a given snake\n",
    "    # if the snake is my snake, it will simply generate the specific safe move as represented by branch\n",
    "    lolop_all4 = []\n",
    "\n",
    "    if (snake['name'] ==  snake_name):\n",
    "        if branch == 'up':\n",
    "            lolop_all4.append([{\"x\": snake['head']['x'] , \"y\": snake['head']['y']+1}] + snake['body'][:])\n",
    "        elif branch == 'down':\n",
    "            lolop_all4.append([{\"x\": snake['head']['x'] , \"y\": snake['head']['y']-1}] + snake['body'][:])\n",
    "        elif branch == 'left':\n",
    "            lolop_all4.append([{\"x\": snake['head']['x']-1, \"y\": snake['head']['y']}] + snake['body'][:])\n",
    "        elif branch == 'right':\n",
    "            lolop_all4.append([{\"x\": snake['head']['x']+1, \"y\": snake['head']['y']}] + snake['body'][:])\n",
    "\n",
    "    else: lolop_all4 = [\n",
    "            [{\"x\": snake['head']['x'] , \"y\": snake['head']['y']+1}] + snake['body'][:],\n",
    "            [{\"x\": snake['head']['x'] , \"y\": snake['head']['y']-1}] + snake['body'][:],\n",
    "            [{\"x\": snake['head']['x']-1 , \"y\": snake['head']['y']}] + snake['body'][:],\n",
    "            [{\"x\": snake['head']['x']+1 , \"y\": snake['head']['y']}] + snake['body'][:]\n",
    "        ]\n",
    "    \n",
    "    # HAZARD / OUT OF BOUNDS\n",
    "    # lolop is a listof (listof {x,y})\n",
    "    # lolop screens out any snakes that have hit a hazard or is out of bounds\n",
    "    lolop = []\n",
    "    for p in lolop_all4:\n",
    "        if (not ((p[0] in hazards) or\n",
    "            (p[0]['x'] < 0) or\n",
    "            (p[0]['x'] > (board_width - 1)) or \n",
    "            (p[0]['y'] < 0) or\n",
    "            (p[0]['y'] > (board_height - 1)) or\n",
    "            (p[0] in p[1:]))):\n",
    "\n",
    "            lolop.append(p)\n",
    "\n",
    "    # FOOD\n",
    "    # lolop_food_adj is a listof (listof {x,y})\n",
    "    # foods_not_eaten is a listof {x,y}\n",
    "    # lolop_food_adj includes snakes adjusted for whether it ate a food or not\n",
    "    # foods_not_eaten is foods, with eaten foods removed \n",
    "    lolop_food_adj = []\n",
    "    foods_not_eaten = foods\n",
    "    for p in lolop:\n",
    "        if p[0] in foods:\n",
    "            lolop_food_adj.append(p)\n",
    "        else:\n",
    "            lolop_food_adj.append(p[:-1])\n",
    "        \n",
    "    for f in foods:\n",
    "        for p in lolop:\n",
    "            if f in p:\n",
    "                foods_not_eaten.remove(f)\n",
    "\n",
    "    # CONVERT POSITION TO SNAKE DATA\n",
    "    # lolop_to_lolos is a listof (listof snakes)\n",
    "    # lolop_to_lolos takes lolop_food_adj and produce list of list of snakes\n",
    "    lolop_to_lolos = []\n",
    "    for pos in lolop_food_adj:\n",
    "        lolop_to_lolos.append(\n",
    "            [{\n",
    "                \"id\": snake['id'],\n",
    "                \"name\": snake['name'],\n",
    "                \"health\": 54,\n",
    "                \"body\": pos,\n",
    "                \"latency\": snake['latency'],\n",
    "                \"head\": pos[0],\n",
    "                \"length\": len(pos),\n",
    "                \"shout\": snake['shout'],\n",
    "                \"squad\": snake['squad'],\n",
    "                \"customizations\": snake['customizations']\n",
    "            }]\n",
    "        )\n",
    "\n",
    "    # APPEND NEW SNAKE TO OLD LISTOF SNAKES\n",
    "    # next_lolos is a listof (listof snake)\n",
    "    # append new snakes to old list of snakes\n",
    "    next_lolos = [] #[[sn, sn, ...], [sn, sn, ...], [sn, sn, ...]]\n",
    "\n",
    "    if len(lolos) == 0:\n",
    "        next_lolos = lolop_to_lolos\n",
    "    else:    \n",
    "        for los in lolos:                           #starting list\n",
    "            losb = []\n",
    "            for s in los:                           #each snake already processed\n",
    "                losb.append(s['body'])              #add to listof snake bodies\n",
    "                \n",
    "            for s in lolop_to_lolos:                #new snake\n",
    "                if (s[0]['head'] not in losb[0]):   #append if not collided\n",
    "                    next_lolos.append(los + s)\n",
    "\n",
    "\n",
    "    # TEST OF RECURSION\n",
    "    # basecase condition: if we have looped through every snake on the board\n",
    "    # convert the list of snakes to board representations\n",
    "    # and return the board\n",
    "    counter += 1\n",
    "    if counter == len(snakes):\n",
    "        lob = []\n",
    "        for los in next_lolos:\n",
    "            lob.append(\n",
    "                {\"height\": board_height,\n",
    "                \"width\": board_width,\n",
    "                \"food\": foods_not_eaten,\n",
    "                \"hazards\": hazards,\n",
    "                \"snakes\": los \n",
    "                }\n",
    "            )\n",
    "        return lob\n",
    "\n",
    "    # Trust the natural recursion <3\n",
    "    return next_lob(board, next_lolos, counter, branch)"
   ]
  },
  {
   "cell_type": "code",
   "execution_count": 351,
   "metadata": {},
   "outputs": [
    {
     "data": {
      "text/plain": [
       "3"
      ]
     },
     "execution_count": 351,
     "metadata": {},
     "output_type": "execute_result"
    }
   ],
   "source": [
    "board = board3\n",
    "new_lob = next_lob(board, [], 0, 'left')\n",
    "len(new_lob)"
   ]
  },
  {
   "cell_type": "code",
   "execution_count": null,
   "metadata": {},
   "outputs": [],
   "source": [
    "new_safe_moves = safe_moves\n",
    "new_new_lob = []\n",
    "for b in next_lob(board, [], 0, 'left'):\n",
    "    my_snake = [snake for snake in b['snakes'] if snake['name'] == snake_name]\n",
    "    \n",
    "    if len(my_snake) > 0:\n",
    "        for m in new_safe_moves[b]: #new_safe_moves fn required\n",
    "            new_new_lob += next_lob(b, [], 0 , m)\n",
    "\n",
    "len(new_new_lob)"
   ]
  },
  {
   "cell_type": "code",
   "execution_count": 367,
   "metadata": {},
   "outputs": [
    {
     "data": {
      "text/plain": [
       "-1458.3333333333335"
      ]
     },
     "execution_count": 367,
     "metadata": {},
     "output_type": "execute_result"
    }
   ],
   "source": [
    "score = mean([score_b(b) for b in new_lolob])\n",
    "score"
   ]
  },
  {
   "cell_type": "markdown",
   "metadata": {},
   "source": [
    "# Testing score_b"
   ]
  },
  {
   "cell_type": "code",
   "execution_count": 344,
   "metadata": {},
   "outputs": [],
   "source": [
    "from statistics import mean\n",
    "\n",
    "def score_b(board):\n",
    "    my_snake = [snake for snake in board['snakes'] if snake['name'] == snake_name]\n",
    "\n",
    "    #my_state: am i alive\n",
    "    my_state = 0\n",
    "    if len(my_snake) == 0:\n",
    "        my_state = -10000 \n",
    "    \n",
    "    #distance to food: the closer the better\n",
    "    distance = 0\n",
    "    \n",
    "    #n_enemies: the lower the better\n",
    "    n_enemies = 0\n",
    "\n",
    "    factors = [my_state, distance, n_enemies]\n",
    "    score = mean(factors)\n",
    "    return score"
   ]
  },
  {
   "cell_type": "code",
   "execution_count": 345,
   "metadata": {},
   "outputs": [
    {
     "data": {
      "text/plain": [
       "{'up': 0, 'left': 0, 'down': -3333.3333333333335, 'right': 0}"
      ]
     },
     "execution_count": 345,
     "metadata": {},
     "output_type": "execute_result"
    }
   ],
   "source": [
    "score_lob(lob)\n",
    "scores = {}\n",
    "\n",
    "for move in safe_moves:\n",
    "    score = mean([score_b(b) for b in next_lob(board3, [], 0 , move)])\n",
    "    scores[move] = score\n",
    "\n",
    "scores"
   ]
  },
  {
   "cell_type": "code",
   "execution_count": 372,
   "metadata": {},
   "outputs": [],
   "source": [
    "def new_safe_moves(x):\n",
    "\n",
    "    return safe_moves"
   ]
  },
  {
   "cell_type": "code",
   "execution_count": 415,
   "metadata": {},
   "outputs": [],
   "source": [
    "snake_name = 'sn2'"
   ]
  },
  {
   "cell_type": "code",
   "execution_count": 417,
   "metadata": {},
   "outputs": [
    {
     "name": "stdout",
     "output_type": "stream",
     "text": [
      "length of scores for up branch is 0\n",
      "length of scores for left branch is 0\n",
      "length of scores for down branch is 297\n",
      "length of scores for right branch is 0\n",
      "\n",
      "branch and corresponding scores are: \n",
      " .... {'down': -2424.2424242424245}\n",
      "best next move for sn2 is down\n"
     ]
    }
   ],
   "source": [
    "scores = {}\n",
    "\n",
    "for move in safe_moves:\n",
    "    new_new_lob = []\n",
    "    for b in next_lob(board, [], 0, move):\n",
    "        my_snake = [snake for snake in b['snakes'] if snake['name'] == snake_name]\n",
    "        \n",
    "        if len(my_snake) > 0:\n",
    "            for m in new_safe_moves(b): #TODO: new_safe_moves fn required\n",
    "                new_new_lob += next_lob(b, [], 0 , m)\n",
    "\n",
    "    score = [score_b(b) for b in new_new_lob]\n",
    "    print('length of scores for {} branch is {}'.format(move, len(score)))\n",
    "\n",
    "    if len(score) > 0:\n",
    "        scores[move] = mean(score)\n",
    "\n",
    "best_next_move = max(scores, key=scores.get)\n",
    "\n",
    "print('\\nbranch and corresponding scores are: \\n .... {}'.format(scores))\n",
    "print('best next move for {} is {}'.format(snake_name,best_next_move))"
   ]
  },
  {
   "cell_type": "code",
   "execution_count": null,
   "metadata": {},
   "outputs": [
    {
     "data": {
      "text/plain": [
       "['up', 'left', 'down', 'right']"
      ]
     },
     "metadata": {},
     "output_type": "display_data"
    }
   ],
   "source": [
    "''' board3\n",
    "L L L L L L L L L L L\n",
    "L L L L L L L L L L L\n",
    "L L L L L L L 4 L L L\n",
    "L L L L L L L 4 L L L\n",
    "L L L L L L L V L L L\n",
    "L L L L L A L L L L L\n",
    "L L L L L 3 L L L L L\n",
    "L L L L L 3 L L L L L\n",
    "L 1 X L L L L L L L L\n",
    "L 1 < 2 2 L L L L L L\n",
    "L V F L L L L L L L L\n",
    "'''"
   ]
  }
 ],
 "metadata": {
  "kernelspec": {
   "display_name": "Python 3.6.3 ('env_zipline')",
   "language": "python",
   "name": "python3"
  },
  "language_info": {
   "codemirror_mode": {
    "name": "ipython",
    "version": 3
   },
   "file_extension": ".py",
   "mimetype": "text/x-python",
   "name": "python",
   "nbconvert_exporter": "python",
   "pygments_lexer": "ipython3",
   "version": "3.6.3"
  },
  "orig_nbformat": 4,
  "vscode": {
   "interpreter": {
    "hash": "8133a5e7c9d8e93edbb45f51b1c79401dfa1760be7f0c80fdbed489d84f53a6b"
   }
  }
 },
 "nbformat": 4,
 "nbformat_minor": 2
}

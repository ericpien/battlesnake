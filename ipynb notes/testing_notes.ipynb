{
 "cells": [
  {
   "cell_type": "code",
   "execution_count": 1,
   "metadata": {},
   "outputs": [],
   "source": [
    "body = [{\"x\": 0, \"y\": 0}, \n",
    "        {\"x\": 1, \"y\": 0}, \n",
    "        {\"x\": 2, \"y\": 0}]"
   ]
  },
  {
   "cell_type": "code",
   "execution_count": 2,
   "metadata": {},
   "outputs": [],
   "source": [
    "body2 = [{\"x\": 0, \"y\": 0}, \n",
    "        {\"x\": 1, \"y\": 0}, \n",
    "        {\"x\": 2, \"y\": 0}]"
   ]
  },
  {
   "cell_type": "code",
   "execution_count": 3,
   "metadata": {},
   "outputs": [],
   "source": [
    "body3 = [{\"x\": 0, \"y\": 0}, \n",
    "        {\"x\": 1, \"y\": 0}, \n",
    "        {\"x\": 2, \"y\": 3}]"
   ]
  },
  {
   "cell_type": "code",
   "execution_count": 4,
   "metadata": {},
   "outputs": [],
   "source": [
    "opponents = [body,body2,body3]\n",
    "op_body = []"
   ]
  },
  {
   "cell_type": "code",
   "execution_count": 5,
   "metadata": {},
   "outputs": [],
   "source": [
    "for x in opponents:\n",
    "    op_body += x[:-1]"
   ]
  },
  {
   "cell_type": "code",
   "execution_count": 6,
   "metadata": {},
   "outputs": [
    {
     "data": {
      "text/plain": [
       "[{'x': 0, 'y': 0}, {'x': 1, 'y': 0}, {'x': 2, 'y': 0}, {'x': 9, 'y': 9}]"
      ]
     },
     "execution_count": 6,
     "metadata": {},
     "output_type": "execute_result"
    }
   ],
   "source": [
    "body + [{'x': 9, 'y':9}]"
   ]
  },
  {
   "cell_type": "code",
   "execution_count": 7,
   "metadata": {},
   "outputs": [],
   "source": [
    "snakeobject11 = {\n",
    "  \"id\": \"sn1\",\n",
    "  \"name\": \"sn1\",\n",
    "  \"health\": 100,\n",
    "  \"body\": [{\"x\": 1, \"y\": 0}, {\"x\": 1, \"y\": 1}, {\"x\": 1, \"y\": 2}],\n",
    "  \"latency\": \"123\",\n",
    "  \"head\": {\"x\": 1, \"y\": 0},\n",
    "  \"length\": 3,\n",
    "  \"shout\": \"s!\",\n",
    "  \"squad\": \"1\",\n",
    "  \"customizations\":{\"color\":\"#26CF04\",\"head\":\"smile\",\"tail\":\"bolt\"}}"
   ]
  },
  {
   "cell_type": "code",
   "execution_count": 8,
   "metadata": {},
   "outputs": [],
   "source": [
    "snakeobject21 = {\n",
    "  \"id\": \"sn2\",\n",
    "  \"name\": \"sn2\",\n",
    "  \"health\": 100,\n",
    "  \"body\": [{\"x\": 2, \"y\": 1}, {\"x\": 3, \"y\": 1}, {\"x\": 4, \"y\": 1}],\n",
    "  \"latency\": \"123\",\n",
    "  \"head\": {\"x\": 2, \"y\": 1},\n",
    "  \"length\": 3,\n",
    "  \"shout\": \"s!\",\n",
    "  \"squad\": \"2\",\n",
    "  \"customizations\":{\"color\":\"#26CF04\",\"head\":\"smile\",\"tail\":\"bolt\"}}"
   ]
  },
  {
   "cell_type": "code",
   "execution_count": 9,
   "metadata": {},
   "outputs": [],
   "source": [
    "snakeobject12 = {\n",
    "  \"id\": \"sn1\",\n",
    "  \"name\": \"sn1\",\n",
    "  \"health\": 100,\n",
    "  \"body\": [{\"x\": 5, \"y\": 5}, {\"x\": 5, \"y\": 4}, {\"x\": 5, \"y\": 3}],\n",
    "  \"latency\": \"123\",\n",
    "  \"head\": {\"x\": 5, \"y\": 5},\n",
    "  \"length\": 3,\n",
    "  \"shout\": \"s!\",\n",
    "  \"squad\": \"1\",\n",
    "  \"customizations\":{\"color\":\"#26CF04\",\"head\":\"smile\",\"tail\":\"bolt\"}}"
   ]
  },
  {
   "cell_type": "code",
   "execution_count": 10,
   "metadata": {},
   "outputs": [],
   "source": [
    "snakeobject22 = {\n",
    "  \"id\": \"sn2\",\n",
    "  \"name\": \"sn2\",\n",
    "  \"health\": 100,\n",
    "  \"body\": [{\"x\": 7, \"y\": 6}, {\"x\": 7, \"y\": 7}, {\"x\": 7, \"y\": 8}],\n",
    "  \"latency\": \"123\",\n",
    "  \"head\": {\"x\": 7, \"y\": 6},\n",
    "  \"length\": 3,\n",
    "  \"shout\": \"s!\",\n",
    "  \"squad\": \"2\",\n",
    "  \"customizations\":{\"color\":\"#26CF04\",\"head\":\"smile\",\"tail\":\"bolt\"}}"
   ]
  },
  {
   "cell_type": "code",
   "execution_count": 11,
   "metadata": {},
   "outputs": [],
   "source": [
    "board1 = {\"height\": 11, \"width\": 11,\n",
    "  \"food\": [{\"x\": 2, \"y\": 0}],\n",
    "  \"hazards\": [{\"x\": 2, \"y\": 2}],\n",
    "  \"snakes\": [snakeobject11, snakeobject21]}"
   ]
  },
  {
   "cell_type": "code",
   "execution_count": 12,
   "metadata": {},
   "outputs": [],
   "source": [
    "board2 = {\"height\": 11, \"width\": 11,\n",
    "  \"food\": [{}],\n",
    "  \"hazards\": [{}],\n",
    "  \"snakes\": [snakeobject12, snakeobject22]}"
   ]
  },
  {
   "cell_type": "code",
   "execution_count": 13,
   "metadata": {},
   "outputs": [],
   "source": [
    "board3 = {\"height\": 11, \"width\": 11,\n",
    "  \"food\": [{\"x\": 2, \"y\": 0}],\n",
    "  \"hazards\": [{\"x\": 2, \"y\": 2}],\n",
    "  \"snakes\": [snakeobject11, snakeobject21, snakeobject12, snakeobject22]}"
   ]
  },
  {
   "cell_type": "code",
   "execution_count": 14,
   "metadata": {},
   "outputs": [],
   "source": [
    "def next_lob(board, lolos, counter):\n",
    "    #board: board object\n",
    "    #lolos: running list of snakes  #listof (listof snakes)\n",
    "    snake = board['snakes'][counter:counter+1][0]\n",
    "    \n",
    "    #pull from board objects\n",
    "    snakes = board[\"snakes\"]        # listof [sn, sn, ...]\n",
    "    hazards = board[\"hazards\"]      # listof [({'x':_,'y':_}),...]\n",
    "    board_height = board[\"height\"]  # Natural\n",
    "    board_width = board[\"width\"]    # Natural\n",
    "    foods = board[\"food\"]           # listof [({'x':_,'y':_}),...]\n",
    "\n",
    "    \n",
    "    #possible_snakes is listof (listof {x,y})\n",
    "    lolop = [\n",
    "        [{\"x\": snake['head']['x'] , \"y\": snake['head']['y']+1}] + snake['body'][:],\n",
    "        [{\"x\": snake['head']['x'] , \"y\": snake['head']['y']-1}] + snake['body'][:],\n",
    "        [{\"x\": snake['head']['x']-1 , \"y\": snake['head']['y']}] + snake['body'][:],\n",
    "        [{\"x\": snake['head']['x']+1 , \"y\": snake['head']['y']}] + snake['body'][:]\n",
    "    ]\n",
    "    \n",
    "    #hits hazard or out of bounds\n",
    "    for p in lolop:\n",
    "        if ((p[0] in hazards) or\n",
    "            (p[0]['x'] < 0) or\n",
    "            (p[0]['x'] > (board_width - 1)) or \n",
    "            (p[0]['y'] < 0) or\n",
    "            (p[0]['y'] > (board_height - 1))):\n",
    "\n",
    "            lolop.remove(p)\n",
    "            print('{} removed from {}'.format(p, snake['name']))\n",
    "    \n",
    "    #TODO: if collide with other snakes, delete\n",
    "\n",
    "    #if not eating, move one space\n",
    "    list_pos_food_adj = []\n",
    "    foods_not_eaten = foods    \n",
    "    for p in lolop:\n",
    "        if p[0] in foods:\n",
    "            list_pos_food_adj.append(p)\n",
    "        else:\n",
    "            list_pos_food_adj.append(p[:-1])\n",
    "        \n",
    "    for f in foods:\n",
    "        for p in lolop:\n",
    "            if f in p:\n",
    "                foods_not_eaten.remove(f)\n",
    "\n",
    "    list_pos_to_snake = []\n",
    "    for pos in list_pos_food_adj:\n",
    "        list_pos_to_snake.append(\n",
    "            [{\n",
    "                \"id\": snake['id'],\n",
    "                \"name\": snake['name'],\n",
    "                \"health\": 54,\n",
    "                \"body\": pos,\n",
    "                \"latency\": snake['latency'],\n",
    "                \"head\": pos[0],\n",
    "                \"length\": len(pos),\n",
    "                \"shout\": snake['shout'],\n",
    "                \"squad\": snake['squad'],\n",
    "                \"customizations\": snake['customizations']\n",
    "            }]\n",
    "        )\n",
    "\n",
    "    next_lolos = []\n",
    "\n",
    "    if len(lolos) == 0:\n",
    "        next_lolos = list_pos_to_snake\n",
    "    else:    \n",
    "        for b in lolos:\n",
    "            for s in list_pos_to_snake:\n",
    "                next_lolos.append(b + [s])\n",
    "                #print(len(next_lolos))\n",
    "\n",
    "    counter += 1\n",
    "    if counter == len(snakes):\n",
    "        lob = []\n",
    "        for los in next_lolos:\n",
    "            lob.append(\n",
    "                {\"height\": board_height,\n",
    "                \"width\": board_width,\n",
    "                \"food\": foods_not_eaten,\n",
    "                \"hazards\": hazards,\n",
    "                \"snakes\": los \n",
    "                }\n",
    "            )\n",
    "        return lob\n",
    "\n",
    "    return next_lob(board, next_lolos, counter)"
   ]
  },
  {
   "cell_type": "code",
   "execution_count": 15,
   "metadata": {},
   "outputs": [
    {
     "name": "stdout",
     "output_type": "stream",
     "text": [
      "[{'x': 1, 'y': -1}, {'x': 1, 'y': 0}, {'x': 1, 'y': 1}, {'x': 1, 'y': 2}] removed from sn1\n",
      "[{'x': 2, 'y': 2}, {'x': 2, 'y': 1}, {'x': 3, 'y': 1}, {'x': 4, 'y': 1}] removed from sn2\n"
     ]
    },
    {
     "data": {
      "text/plain": [
       "144"
      ]
     },
     "execution_count": 15,
     "metadata": {},
     "output_type": "execute_result"
    }
   ],
   "source": [
    "board = board3\n",
    "nl = next_lob(board,[],0)\n",
    "len(nl)"
   ]
  }
 ],
 "metadata": {
  "kernelspec": {
   "display_name": "Python 3.6.3 ('env_zipline')",
   "language": "python",
   "name": "python3"
  },
  "language_info": {
   "codemirror_mode": {
    "name": "ipython",
    "version": 3
   },
   "file_extension": ".py",
   "mimetype": "text/x-python",
   "name": "python",
   "nbconvert_exporter": "python",
   "pygments_lexer": "ipython3",
   "version": "3.6.3"
  },
  "orig_nbformat": 4,
  "vscode": {
   "interpreter": {
    "hash": "8133a5e7c9d8e93edbb45f51b1c79401dfa1760be7f0c80fdbed489d84f53a6b"
   }
  }
 },
 "nbformat": 4,
 "nbformat_minor": 2
}
